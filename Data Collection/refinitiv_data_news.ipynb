{
 "cells": [
  {
   "cell_type": "code",
   "execution_count": 40,
   "metadata": {},
   "outputs": [],
   "source": [
    "import pandas as pd\n",
    "from IPython.display import HTML"
   ]
  },
  {
   "cell_type": "code",
   "execution_count": 2,
   "metadata": {},
   "outputs": [],
   "source": [
    "import os\n",
    "os.environ[\"RD_LIB_CONFIG_PATH\"] = \"../Configuration\""
   ]
  },
  {
   "cell_type": "code",
   "execution_count": 3,
   "metadata": {},
   "outputs": [],
   "source": [
    "import refinitiv.data as rd\n",
    "from refinitiv.data.content import news"
   ]
  },
  {
   "cell_type": "code",
   "execution_count": 4,
   "metadata": {},
   "outputs": [
    {
     "data": {
      "text/plain": [
       "<refinitiv.data.session.Definition object at 0x29036c38bb0 {name='workspace'}>"
      ]
     },
     "execution_count": 4,
     "metadata": {},
     "output_type": "execute_result"
    }
   ],
   "source": [
    "rd.open_session()"
   ]
  },
  {
   "cell_type": "code",
   "execution_count": 110,
   "metadata": {},
   "outputs": [],
   "source": [
    "response = news.headlines.Definition(\n",
    "    query=\"BASF\",\n",
    "    date_from=\"01.01.2022\", \n",
    "    date_to=\"01.01.2023\",\n",
    "    count=5000\n",
    ").get_data()\n",
    "news_df = response.data.df"
   ]
  },
  {
   "cell_type": "code",
   "execution_count": 111,
   "metadata": {},
   "outputs": [
    {
     "name": "stdout",
     "output_type": "stream",
     "text": [
      "<class 'pandas.core.frame.DataFrame'>\n",
      "DatetimeIndex: 3676 entries, 2022-12-31 03:54:59.578000 to 2022-01-01 01:07:52.763000\n",
      "Data columns (total 3 columns):\n",
      " #   Column      Non-Null Count  Dtype \n",
      "---  ------      --------------  ----- \n",
      " 0   headline    3676 non-null   string\n",
      " 1   storyId     3676 non-null   string\n",
      " 2   sourceCode  3676 non-null   string\n",
      "dtypes: string(3)\n",
      "memory usage: 114.9 KB\n"
     ]
    }
   ],
   "source": [
    "news_df.info()"
   ]
  },
  {
   "cell_type": "code",
   "execution_count": 112,
   "metadata": {},
   "outputs": [
    {
     "data": {
      "text/html": [
       "<div>\n",
       "<style scoped>\n",
       "    .dataframe tbody tr th:only-of-type {\n",
       "        vertical-align: middle;\n",
       "    }\n",
       "\n",
       "    .dataframe tbody tr th {\n",
       "        vertical-align: top;\n",
       "    }\n",
       "\n",
       "    .dataframe thead th {\n",
       "        text-align: right;\n",
       "    }\n",
       "</style>\n",
       "<table border=\"1\" class=\"dataframe\">\n",
       "  <thead>\n",
       "    <tr style=\"text-align: right;\">\n",
       "      <th></th>\n",
       "      <th>headline</th>\n",
       "      <th>storyId</th>\n",
       "      <th>sourceCode</th>\n",
       "    </tr>\n",
       "    <tr>\n",
       "      <th>versionCreated</th>\n",
       "      <th></th>\n",
       "      <th></th>\n",
       "      <th></th>\n",
       "    </tr>\n",
       "  </thead>\n",
       "  <tbody>\n",
       "    <tr>\n",
       "      <th>2022-12-31 03:54:59.578</th>\n",
       "      <td>Cartridges Tone. Tenderline For Canon Mf211/mf...</td>\n",
       "      <td>urn:newsml:newswire.refinitiv.com:20221231:nNR...</td>\n",
       "      <td>NS:ECLCTA</td>\n",
       "    </tr>\n",
       "    <tr>\n",
       "      <th>2022-12-31 03:22:31.384</th>\n",
       "      <td>United States : Andrea Frenzel appointed newes...</td>\n",
       "      <td>urn:newsml:newswire.refinitiv.com:20221231:nNR...</td>\n",
       "      <td>NS:ECLPCM</td>\n",
       "    </tr>\n",
       "    <tr>\n",
       "      <th>2022-12-31 03:22:07.174</th>\n",
       "      <td>United States : Andrea Frenzel appointed newes...</td>\n",
       "      <td>urn:newsml:newswire.refinitiv.com:20221231:nNR...</td>\n",
       "      <td>NS:ECLBFI</td>\n",
       "    </tr>\n",
       "    <tr>\n",
       "      <th>2022-12-30 14:37:26.654</th>\n",
       "      <td>(EN) BASF INDIA LIMITED Corporate Communicatio...</td>\n",
       "      <td>urn:newsml:newswire.refinitiv.com:20221230:nGL...</td>\n",
       "      <td>NS:GLFILE</td>\n",
       "    </tr>\n",
       "    <tr>\n",
       "      <th>2022-12-30 14:34:00.177</th>\n",
       "      <td>Postal Ballot - BASF INDIA LTD. - Results Of P...</td>\n",
       "      <td>urn:newsml:newswire.refinitiv.com:20221230:nBS...</td>\n",
       "      <td>NS:BSE</td>\n",
       "    </tr>\n",
       "  </tbody>\n",
       "</table>\n",
       "</div>"
      ],
      "text/plain": [
       "                                                                  headline  \\\n",
       "versionCreated                                                               \n",
       "2022-12-31 03:54:59.578  Cartridges Tone. Tenderline For Canon Mf211/mf...   \n",
       "2022-12-31 03:22:31.384  United States : Andrea Frenzel appointed newes...   \n",
       "2022-12-31 03:22:07.174  United States : Andrea Frenzel appointed newes...   \n",
       "2022-12-30 14:37:26.654  (EN) BASF INDIA LIMITED Corporate Communicatio...   \n",
       "2022-12-30 14:34:00.177  Postal Ballot - BASF INDIA LTD. - Results Of P...   \n",
       "\n",
       "                                                                   storyId  \\\n",
       "versionCreated                                                               \n",
       "2022-12-31 03:54:59.578  urn:newsml:newswire.refinitiv.com:20221231:nNR...   \n",
       "2022-12-31 03:22:31.384  urn:newsml:newswire.refinitiv.com:20221231:nNR...   \n",
       "2022-12-31 03:22:07.174  urn:newsml:newswire.refinitiv.com:20221231:nNR...   \n",
       "2022-12-30 14:37:26.654  urn:newsml:newswire.refinitiv.com:20221230:nGL...   \n",
       "2022-12-30 14:34:00.177  urn:newsml:newswire.refinitiv.com:20221230:nBS...   \n",
       "\n",
       "                        sourceCode  \n",
       "versionCreated                      \n",
       "2022-12-31 03:54:59.578  NS:ECLCTA  \n",
       "2022-12-31 03:22:31.384  NS:ECLPCM  \n",
       "2022-12-31 03:22:07.174  NS:ECLBFI  \n",
       "2022-12-30 14:37:26.654  NS:GLFILE  \n",
       "2022-12-30 14:34:00.177     NS:BSE  "
      ]
     },
     "execution_count": 112,
     "metadata": {},
     "output_type": "execute_result"
    }
   ],
   "source": [
    "news_df.head()"
   ]
  },
  {
   "cell_type": "code",
   "execution_count": 113,
   "metadata": {},
   "outputs": [
    {
     "data": {
      "text/html": [
       "<div>\n",
       "<style scoped>\n",
       "    .dataframe tbody tr th:only-of-type {\n",
       "        vertical-align: middle;\n",
       "    }\n",
       "\n",
       "    .dataframe tbody tr th {\n",
       "        vertical-align: top;\n",
       "    }\n",
       "\n",
       "    .dataframe thead th {\n",
       "        text-align: right;\n",
       "    }\n",
       "</style>\n",
       "<table border=\"1\" class=\"dataframe\">\n",
       "  <thead>\n",
       "    <tr style=\"text-align: right;\">\n",
       "      <th></th>\n",
       "      <th>headline</th>\n",
       "      <th>storyId</th>\n",
       "      <th>sourceCode</th>\n",
       "    </tr>\n",
       "    <tr>\n",
       "      <th>versionCreated</th>\n",
       "      <th></th>\n",
       "      <th></th>\n",
       "      <th></th>\n",
       "    </tr>\n",
       "  </thead>\n",
       "  <tbody>\n",
       "    <tr>\n",
       "      <th>2022-01-03 07:41:09.814</th>\n",
       "      <td>(EN) BASF INDIA LIMITED Other Share Transactio...</td>\n",
       "      <td>urn:newsml:newswire.refinitiv.com:20220103:nGL...</td>\n",
       "      <td>NS:GLFILE</td>\n",
       "    </tr>\n",
       "    <tr>\n",
       "      <th>2022-01-03 07:39:08.867</th>\n",
       "      <td>Reg. 39 (3) - Details of Loss of Certificate /...</td>\n",
       "      <td>urn:newsml:newswire.refinitiv.com:20220103:nBS...</td>\n",
       "      <td>NS:BSE</td>\n",
       "    </tr>\n",
       "    <tr>\n",
       "      <th>2022-01-01 01:18:36.913</th>\n",
       "      <td>Switzerland : Clariant to purchase BASF?s U.S....</td>\n",
       "      <td>urn:newsml:newswire.refinitiv.com:20220101:nNR...</td>\n",
       "      <td>NS:ECLPCM</td>\n",
       "    </tr>\n",
       "    <tr>\n",
       "      <th>2022-01-01 01:15:52.037</th>\n",
       "      <td>Vanadium Catalyst Basf Or 4-110 Norm Catalytic...</td>\n",
       "      <td>urn:newsml:newswire.refinitiv.com:20220101:nNR...</td>\n",
       "      <td>NS:ECLCTA</td>\n",
       "    </tr>\n",
       "    <tr>\n",
       "      <th>2022-01-01 01:07:52.763</th>\n",
       "      <td>Switzerland : Clariant to purchase BASF?s U.S....</td>\n",
       "      <td>urn:newsml:newswire.refinitiv.com:20220101:nNR...</td>\n",
       "      <td>NS:ECLBFI</td>\n",
       "    </tr>\n",
       "  </tbody>\n",
       "</table>\n",
       "</div>"
      ],
      "text/plain": [
       "                                                                  headline  \\\n",
       "versionCreated                                                               \n",
       "2022-01-03 07:41:09.814  (EN) BASF INDIA LIMITED Other Share Transactio...   \n",
       "2022-01-03 07:39:08.867  Reg. 39 (3) - Details of Loss of Certificate /...   \n",
       "2022-01-01 01:18:36.913  Switzerland : Clariant to purchase BASF?s U.S....   \n",
       "2022-01-01 01:15:52.037  Vanadium Catalyst Basf Or 4-110 Norm Catalytic...   \n",
       "2022-01-01 01:07:52.763  Switzerland : Clariant to purchase BASF?s U.S....   \n",
       "\n",
       "                                                                   storyId  \\\n",
       "versionCreated                                                               \n",
       "2022-01-03 07:41:09.814  urn:newsml:newswire.refinitiv.com:20220103:nGL...   \n",
       "2022-01-03 07:39:08.867  urn:newsml:newswire.refinitiv.com:20220103:nBS...   \n",
       "2022-01-01 01:18:36.913  urn:newsml:newswire.refinitiv.com:20220101:nNR...   \n",
       "2022-01-01 01:15:52.037  urn:newsml:newswire.refinitiv.com:20220101:nNR...   \n",
       "2022-01-01 01:07:52.763  urn:newsml:newswire.refinitiv.com:20220101:nNR...   \n",
       "\n",
       "                        sourceCode  \n",
       "versionCreated                      \n",
       "2022-01-03 07:41:09.814  NS:GLFILE  \n",
       "2022-01-03 07:39:08.867     NS:BSE  \n",
       "2022-01-01 01:18:36.913  NS:ECLPCM  \n",
       "2022-01-01 01:15:52.037  NS:ECLCTA  \n",
       "2022-01-01 01:07:52.763  NS:ECLBFI  "
      ]
     },
     "execution_count": 113,
     "metadata": {},
     "output_type": "execute_result"
    }
   ],
   "source": [
    "news_df.tail()"
   ]
  },
  {
   "cell_type": "code",
   "execution_count": 114,
   "metadata": {},
   "outputs": [
    {
     "name": "stdout",
     "output_type": "stream",
     "text": [
      "Cartridges Tone. Tenderline For Canon Mf211/mf212, Tone Cartridges. Tenderline For Hp Lj1010. Canon Lbp-2900, Tone Cartridges. Basf For Samsung Scx... \n",
      "\n"
     ]
    },
    {
     "data": {
      "text/html": [
       "<div class=\"storyContent\" lang=\"en\"><style type=\"text/css\">.storyContent * {border-color:inherit !important;outline-color:inherit !important;}</style><div class=\"tr-npp-lead\"><p>Cartridges Tone. Tenderline For Canon Mf211/mf212, Tone Cartridges. Tenderline For Hp Lj1010. Canon Lbp-2900, Tone Cartridges. Basf For Samsung Scx-4650n/4655fn, Tone Cartridges. Newtone For Hp Lj Pro</p><p>Contract awarded for Cartridges tone. tenderline for canon mf211/mf212, tone cartridges. tenderline for hp lj1010. canon lbp-2900, tone cartridges. basf for samsung scx-4650n/4655fn, tone cartridges. newtone for hp lj pro., wwm ink for epson l110/l210/l355.</p></div><div class=\"tr-npp-body\"><p>15784 uah</p><p>without vat</p></div><p class=\"line-break\"><br/></p><p class=\"tr-copyright\">Copyright (c) 2022 Euclid Infotech Pvt Ltd.</p></div>"
      ],
      "text/plain": [
       "<IPython.core.display.HTML object>"
      ]
     },
     "execution_count": 114,
     "metadata": {},
     "output_type": "execute_result"
    }
   ],
   "source": [
    "response = news.story.Definition(str(news_df.iloc[0, 1])).get_data()\n",
    "print(response.data.story.title, '\\n')\n",
    "HTML(response.data.story.content.html)"
   ]
  },
  {
   "cell_type": "code",
   "execution_count": 115,
   "metadata": {},
   "outputs": [
    {
     "data": {
      "text/html": [
       "<div>\n",
       "<style scoped>\n",
       "    .dataframe tbody tr th:only-of-type {\n",
       "        vertical-align: middle;\n",
       "    }\n",
       "\n",
       "    .dataframe tbody tr th {\n",
       "        vertical-align: top;\n",
       "    }\n",
       "\n",
       "    .dataframe thead th {\n",
       "        text-align: right;\n",
       "    }\n",
       "</style>\n",
       "<table border=\"1\" class=\"dataframe\">\n",
       "  <thead>\n",
       "    <tr style=\"text-align: right;\">\n",
       "      <th></th>\n",
       "      <th>headline</th>\n",
       "      <th>storyId</th>\n",
       "      <th>sourceCode</th>\n",
       "      <th>story</th>\n",
       "    </tr>\n",
       "    <tr>\n",
       "      <th>versionCreated</th>\n",
       "      <th></th>\n",
       "      <th></th>\n",
       "      <th></th>\n",
       "      <th></th>\n",
       "    </tr>\n",
       "  </thead>\n",
       "  <tbody>\n",
       "    <tr>\n",
       "      <th>2022-12-31 03:54:59.578</th>\n",
       "      <td>Cartridges Tone. Tenderline For Canon Mf211/mf...</td>\n",
       "      <td>urn:newsml:newswire.refinitiv.com:20221231:nNR...</td>\n",
       "      <td>NS:ECLCTA</td>\n",
       "      <td>&lt;div class=\"storyContent\" lang=\"en\"&gt;&lt;style typ...</td>\n",
       "    </tr>\n",
       "    <tr>\n",
       "      <th>2022-12-31 03:22:31.384</th>\n",
       "      <td>United States : Andrea Frenzel appointed newes...</td>\n",
       "      <td>urn:newsml:newswire.refinitiv.com:20221231:nNR...</td>\n",
       "      <td>NS:ECLPCM</td>\n",
       "      <td>&lt;div class=\"storyContent\" lang=\"en\"&gt;&lt;style typ...</td>\n",
       "    </tr>\n",
       "    <tr>\n",
       "      <th>2022-12-31 03:22:07.174</th>\n",
       "      <td>United States : Andrea Frenzel appointed newes...</td>\n",
       "      <td>urn:newsml:newswire.refinitiv.com:20221231:nNR...</td>\n",
       "      <td>NS:ECLBFI</td>\n",
       "      <td>&lt;div class=\"storyContent\" lang=\"en\"&gt;&lt;style typ...</td>\n",
       "    </tr>\n",
       "    <tr>\n",
       "      <th>2022-12-30 14:37:26.654</th>\n",
       "      <td>(EN) BASF INDIA LIMITED Corporate Communicatio...</td>\n",
       "      <td>urn:newsml:newswire.refinitiv.com:20221230:nGL...</td>\n",
       "      <td>NS:GLFILE</td>\n",
       "      <td>&lt;div class=\"storyContent\" lang=\"en\"&gt;&lt;style typ...</td>\n",
       "    </tr>\n",
       "    <tr>\n",
       "      <th>2022-12-30 14:34:00.177</th>\n",
       "      <td>Postal Ballot - BASF INDIA LTD. - Results Of P...</td>\n",
       "      <td>urn:newsml:newswire.refinitiv.com:20221230:nBS...</td>\n",
       "      <td>NS:BSE</td>\n",
       "      <td>&lt;div class=\"storyContent\" lang=\"en\"&gt;&lt;style typ...</td>\n",
       "    </tr>\n",
       "  </tbody>\n",
       "</table>\n",
       "</div>"
      ],
      "text/plain": [
       "                                                                  headline  \\\n",
       "versionCreated                                                               \n",
       "2022-12-31 03:54:59.578  Cartridges Tone. Tenderline For Canon Mf211/mf...   \n",
       "2022-12-31 03:22:31.384  United States : Andrea Frenzel appointed newes...   \n",
       "2022-12-31 03:22:07.174  United States : Andrea Frenzel appointed newes...   \n",
       "2022-12-30 14:37:26.654  (EN) BASF INDIA LIMITED Corporate Communicatio...   \n",
       "2022-12-30 14:34:00.177  Postal Ballot - BASF INDIA LTD. - Results Of P...   \n",
       "\n",
       "                                                                   storyId  \\\n",
       "versionCreated                                                               \n",
       "2022-12-31 03:54:59.578  urn:newsml:newswire.refinitiv.com:20221231:nNR...   \n",
       "2022-12-31 03:22:31.384  urn:newsml:newswire.refinitiv.com:20221231:nNR...   \n",
       "2022-12-31 03:22:07.174  urn:newsml:newswire.refinitiv.com:20221231:nNR...   \n",
       "2022-12-30 14:37:26.654  urn:newsml:newswire.refinitiv.com:20221230:nGL...   \n",
       "2022-12-30 14:34:00.177  urn:newsml:newswire.refinitiv.com:20221230:nBS...   \n",
       "\n",
       "                        sourceCode  \\\n",
       "versionCreated                       \n",
       "2022-12-31 03:54:59.578  NS:ECLCTA   \n",
       "2022-12-31 03:22:31.384  NS:ECLPCM   \n",
       "2022-12-31 03:22:07.174  NS:ECLBFI   \n",
       "2022-12-30 14:37:26.654  NS:GLFILE   \n",
       "2022-12-30 14:34:00.177     NS:BSE   \n",
       "\n",
       "                                                                     story  \n",
       "versionCreated                                                              \n",
       "2022-12-31 03:54:59.578  <div class=\"storyContent\" lang=\"en\"><style typ...  \n",
       "2022-12-31 03:22:31.384  <div class=\"storyContent\" lang=\"en\"><style typ...  \n",
       "2022-12-31 03:22:07.174  <div class=\"storyContent\" lang=\"en\"><style typ...  \n",
       "2022-12-30 14:37:26.654  <div class=\"storyContent\" lang=\"en\"><style typ...  \n",
       "2022-12-30 14:34:00.177  <div class=\"storyContent\" lang=\"en\"><style typ...  "
      ]
     },
     "execution_count": 115,
     "metadata": {},
     "output_type": "execute_result"
    }
   ],
   "source": [
    "response = news.story.Definition(str(news_df.iloc[0, 1])).get_data()\n",
    "story = str(response.data.story.content.html)\n",
    "news_df[\"story\"] = story\n",
    "\n",
    "news_df.head()"
   ]
  },
  {
   "cell_type": "code",
   "execution_count": 116,
   "metadata": {},
   "outputs": [],
   "source": [
    "rd.close_session()"
   ]
  }
 ],
 "metadata": {
  "kernelspec": {
   "display_name": "FS_Base",
   "language": "python",
   "name": "python3"
  },
  "language_info": {
   "codemirror_mode": {
    "name": "ipython",
    "version": 3
   },
   "file_extension": ".py",
   "mimetype": "text/x-python",
   "name": "python",
   "nbconvert_exporter": "python",
   "pygments_lexer": "ipython3",
   "version": "3.10.4"
  },
  "orig_nbformat": 4,
  "vscode": {
   "interpreter": {
    "hash": "092fd3b47a62a288d64e0d56cb1d943a7dfc85b85fdb59434f57bdf2cec50c7f"
   }
  }
 },
 "nbformat": 4,
 "nbformat_minor": 2
}
