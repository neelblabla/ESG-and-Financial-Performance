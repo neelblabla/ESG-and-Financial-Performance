{
 "cells": [
  {
   "cell_type": "code",
   "execution_count": 1,
   "metadata": {},
   "outputs": [],
   "source": [
    "import pandas as pd"
   ]
  },
  {
   "cell_type": "code",
   "execution_count": 2,
   "metadata": {},
   "outputs": [],
   "source": [
    "import os\n",
    "os.environ[\"RD_LIB_CONFIG_PATH\"] = \"../Configuration\""
   ]
  },
  {
   "cell_type": "code",
   "execution_count": 3,
   "metadata": {},
   "outputs": [],
   "source": [
    "import refinitiv.data as rd"
   ]
  },
  {
   "cell_type": "code",
   "execution_count": 4,
   "metadata": {},
   "outputs": [
    {
     "data": {
      "text/plain": [
       "<refinitiv.data.session.Definition object at 0x7fe804735c40 {name='workspace'}>"
      ]
     },
     "execution_count": 4,
     "metadata": {},
     "output_type": "execute_result"
    }
   ],
   "source": [
    "rd.open_session()"
   ]
  },
  {
   "cell_type": "code",
   "execution_count": 5,
   "metadata": {},
   "outputs": [
    {
     "data": {
      "text/html": [
       "<div>\n",
       "<style scoped>\n",
       "    .dataframe tbody tr th:only-of-type {\n",
       "        vertical-align: middle;\n",
       "    }\n",
       "\n",
       "    .dataframe tbody tr th {\n",
       "        vertical-align: top;\n",
       "    }\n",
       "\n",
       "    .dataframe thead th {\n",
       "        text-align: right;\n",
       "    }\n",
       "</style>\n",
       "<table border=\"1\" class=\"dataframe\">\n",
       "  <thead>\n",
       "    <tr style=\"text-align: right;\">\n",
       "      <th></th>\n",
       "      <th>ISIN</th>\n",
       "      <th>Name</th>\n",
       "    </tr>\n",
       "  </thead>\n",
       "  <tbody>\n",
       "    <tr>\n",
       "      <th>0</th>\n",
       "      <td>DK0010244508</td>\n",
       "      <td>A P MOLLER MAERSK B</td>\n",
       "    </tr>\n",
       "    <tr>\n",
       "      <th>1</th>\n",
       "      <td>DE000A1TNNN5</td>\n",
       "      <td>A S CREATION TAPETEN</td>\n",
       "    </tr>\n",
       "    <tr>\n",
       "      <th>2</th>\n",
       "      <td>CA0002551095</td>\n",
       "      <td>A&amp;W REVENUE RYLT.INC.FD. UTS.</td>\n",
       "    </tr>\n",
       "    <tr>\n",
       "      <th>3</th>\n",
       "      <td>CNE100002RY5</td>\n",
       "      <td>A-LIVING SERVICES 'H'</td>\n",
       "    </tr>\n",
       "    <tr>\n",
       "      <th>4</th>\n",
       "      <td>US00181T1079</td>\n",
       "      <td>A-MARK PRECIOUS METALS</td>\n",
       "    </tr>\n",
       "  </tbody>\n",
       "</table>\n",
       "</div>"
      ],
      "text/plain": [
       "           ISIN                           Name\n",
       "0  DK0010244508            A P MOLLER MAERSK B\n",
       "1  DE000A1TNNN5           A S CREATION TAPETEN\n",
       "2  CA0002551095  A&W REVENUE RYLT.INC.FD. UTS.\n",
       "3  CNE100002RY5          A-LIVING SERVICES 'H'\n",
       "4  US00181T1079         A-MARK PRECIOUS METALS"
      ]
     },
     "execution_count": 5,
     "metadata": {},
     "output_type": "execute_result"
    }
   ],
   "source": [
    "df_companies = pd.read_csv('Refinitiv_ESG_Universe.csv', delimiter=';')\n",
    "\n",
    "df_companies.head()"
   ]
  },
  {
   "cell_type": "code",
   "execution_count": 6,
   "metadata": {},
   "outputs": [
    {
     "name": "stdout",
     "output_type": "stream",
     "text": [
      "<class 'pandas.core.frame.DataFrame'>\n",
      "RangeIndex: 9960 entries, 0 to 9959\n",
      "Data columns (total 2 columns):\n",
      " #   Column  Non-Null Count  Dtype \n",
      "---  ------  --------------  ----- \n",
      " 0   ISIN    9960 non-null   object\n",
      " 1   Name    9960 non-null   object\n",
      "dtypes: object(2)\n",
      "memory usage: 155.8+ KB\n"
     ]
    }
   ],
   "source": [
    "df_companies.info()"
   ]
  },
  {
   "cell_type": "code",
   "execution_count": 7,
   "metadata": {},
   "outputs": [
    {
     "data": {
      "text/html": [
       "<div>\n",
       "<style scoped>\n",
       "    .dataframe tbody tr th:only-of-type {\n",
       "        vertical-align: middle;\n",
       "    }\n",
       "\n",
       "    .dataframe tbody tr th {\n",
       "        vertical-align: top;\n",
       "    }\n",
       "\n",
       "    .dataframe thead th {\n",
       "        text-align: right;\n",
       "    }\n",
       "</style>\n",
       "<table border=\"1\" class=\"dataframe\">\n",
       "  <thead>\n",
       "    <tr style=\"text-align: right;\">\n",
       "      <th></th>\n",
       "      <th>Instrument</th>\n",
       "      <th>Country of Headquarters</th>\n",
       "      <th>Region of Headquarters</th>\n",
       "      <th>NAICS National Industry Name</th>\n",
       "      <th>NAICS Industry Group Name</th>\n",
       "      <th>NAICS Sector Name</th>\n",
       "      <th>GICS Sub-Industry Name</th>\n",
       "      <th>GICS Industry Name</th>\n",
       "      <th>ICB Industry name</th>\n",
       "      <th>ICB Sector name</th>\n",
       "      <th>GICS Industry Group Name</th>\n",
       "      <th>SIC Industry Name</th>\n",
       "      <th>TRBC Industry Name</th>\n",
       "      <th>TRBC Industry Group Name</th>\n",
       "      <th>TRBC Business Sector Name</th>\n",
       "      <th>TRBC Economic Sector Name</th>\n",
       "      <th>TSE33 Main sector name</th>\n",
       "      <th>NAICS Subsector Name</th>\n",
       "    </tr>\n",
       "  </thead>\n",
       "  <tbody>\n",
       "    <tr>\n",
       "      <th>0</th>\n",
       "      <td>BASFn.DE</td>\n",
       "      <td>Germany</td>\n",
       "      <td>Europe</td>\n",
       "      <td>Paint and Coating Manufacturing</td>\n",
       "      <td>Paint, Coating, and Adhesive Manufacturing</td>\n",
       "      <td>Manufacturing</td>\n",
       "      <td>Diversified Chemicals</td>\n",
       "      <td>Chemicals</td>\n",
       "      <td>Basic Materials</td>\n",
       "      <td>Chemicals</td>\n",
       "      <td>Materials</td>\n",
       "      <td></td>\n",
       "      <td>Diversified Chemicals</td>\n",
       "      <td>Chemicals</td>\n",
       "      <td>Chemicals</td>\n",
       "      <td>Basic Materials</td>\n",
       "      <td></td>\n",
       "      <td>Chemical Manufacturing</td>\n",
       "    </tr>\n",
       "    <tr>\n",
       "      <th>1</th>\n",
       "      <td>IBM.N</td>\n",
       "      <td>United States of America</td>\n",
       "      <td>Americas</td>\n",
       "      <td>Computer Systems Design Services</td>\n",
       "      <td>Computer Systems Design and Related Services</td>\n",
       "      <td>Professional, Scientific, and Technical Services</td>\n",
       "      <td>IT Consulting &amp; Other Services</td>\n",
       "      <td>IT Services</td>\n",
       "      <td>Technology</td>\n",
       "      <td>Software &amp; Computer Services</td>\n",
       "      <td>Software &amp; Services</td>\n",
       "      <td></td>\n",
       "      <td>IT Services &amp; Consulting</td>\n",
       "      <td>Software &amp; IT Services</td>\n",
       "      <td>Software &amp; IT Services</td>\n",
       "      <td>Technology</td>\n",
       "      <td></td>\n",
       "      <td>Professional, Scientific, and Technical Services</td>\n",
       "    </tr>\n",
       "  </tbody>\n",
       "</table>\n",
       "</div>"
      ],
      "text/plain": [
       "  Instrument   Country of Headquarters Region of Headquarters  \\\n",
       "0   BASFn.DE                   Germany                 Europe   \n",
       "1      IBM.N  United States of America               Americas   \n",
       "\n",
       "       NAICS National Industry Name  \\\n",
       "0   Paint and Coating Manufacturing   \n",
       "1  Computer Systems Design Services   \n",
       "\n",
       "                      NAICS Industry Group Name  \\\n",
       "0    Paint, Coating, and Adhesive Manufacturing   \n",
       "1  Computer Systems Design and Related Services   \n",
       "\n",
       "                                  NAICS Sector Name  \\\n",
       "0                                     Manufacturing   \n",
       "1  Professional, Scientific, and Technical Services   \n",
       "\n",
       "           GICS Sub-Industry Name GICS Industry Name ICB Industry name  \\\n",
       "0           Diversified Chemicals          Chemicals   Basic Materials   \n",
       "1  IT Consulting & Other Services        IT Services        Technology   \n",
       "\n",
       "                ICB Sector name GICS Industry Group Name SIC Industry Name  \\\n",
       "0                     Chemicals                Materials                     \n",
       "1  Software & Computer Services      Software & Services                     \n",
       "\n",
       "         TRBC Industry Name TRBC Industry Group Name  \\\n",
       "0     Diversified Chemicals                Chemicals   \n",
       "1  IT Services & Consulting   Software & IT Services   \n",
       "\n",
       "  TRBC Business Sector Name TRBC Economic Sector Name TSE33 Main sector name  \\\n",
       "0                 Chemicals           Basic Materials                          \n",
       "1    Software & IT Services                Technology                          \n",
       "\n",
       "                               NAICS Subsector Name  \n",
       "0                            Chemical Manufacturing  \n",
       "1  Professional, Scientific, and Technical Services  "
      ]
     },
     "execution_count": 7,
     "metadata": {},
     "output_type": "execute_result"
    }
   ],
   "source": [
    "# example, also works with ISIN instead of BASF Ticker\n",
    "df = rd.get_data(\n",
    "    universe=[\"BASFn.DE\", \"IBM.N\"],\n",
    "    fields=[\"TR.HeadquartersCountry\", \"TR.HeadquartersRegion\", \"TR.NAICSNationalIndustry\", \"TR.NAICSIndustryGroup\", \n",
    "            \"TR.NAICSSector\", \"TR.GICSSubIndustry\", \"TR.GICSIndustry\", \"TR.ICBIndustry\", \"TR.ICBSector\", \"TR.GICSIndustryGroup\", \"TR.SICIndustryGroup\"\n",
    "            \"TR.GICSSector\", \"TR.SICIndustry\", \"TR.TRBCIndustry\", \"TR.TRBCIndustryGroup\", \"TR.TRBCBusinessSector\", \"TR.TRBCEconomicSector\",\n",
    "            \"TR.TSE33SectorNameMain\", \"TR.NAICSSubsector\"]\n",
    ")\n",
    "\n",
    "df"
   ]
  },
  {
   "cell_type": "code",
   "execution_count": null,
   "metadata": {},
   "outputs": [],
   "source": [
    "# testing the loop\n",
    "test_frame = df_companies.iloc[:15, :]\n",
    "\n",
    "# loop to collect data for all available companies, stored in a dictionary with a df for each isin\n",
    "financials_data_dict = {}\n",
    "\n",
    "for isin in test_frame[\"ISIN\"]:\n",
    "\n",
    "    df = rd.get_history(\n",
    "        universe=isin,\n",
    "        fields=[\"TR.RevenueMean\", \"TR.EarningsMean\", \"TR.F.EmpAvg\", \"TR.EPSMean\", \"TR.ROAMean\", \"TR.ROEMean\",\n",
    "        \"TR.Volume\", \"TR.CompanyMarketCap\", \"TR.FCFMean\", \"TR.WACC\", \"TR.EBITDAMean\", \"TR.OrganicSalesGrowthMean\"],\n",
    "        interval=\"1Y\",\n",
    "        start=\"2000-01-01\",\n",
    "        end=\"2023-01-01\",\n",
    "    )\n",
    "    \n",
    "    df.index = pd.to_datetime(df.index)\n",
    "    df = df.groupby(df.index.year).first()\n",
    "\n",
    "    financials_data_dict[isin] = df\n",
    "\n",
    "# Assume `dfs_dict` is the dictionary of dataframes\n",
    "dfs = []\n",
    "for key, df in financials_data_dict.items():\n",
    "    df['key'] = key  # Add a new column containing the key\n",
    "    dfs.append(df)\n",
    "\n",
    "# Concatenate the dataframes into a single one\n",
    "result = pd.concat(dfs)\n",
    "\n",
    "result.to_csv('comp_financials_test.csv')\n",
    "\n",
    "result.head()"
   ]
  },
  {
   "cell_type": "code",
   "execution_count": null,
   "metadata": {},
   "outputs": [],
   "source": [
    "# loop to collect data for all available companies, stored in a dictionary with a df for each isin\n",
    "financials_data_dict = {}\n",
    "\n",
    "for isin in df_companies[\"ISIN\"]:\n",
    "\n",
    "    df = rd.get_history(\n",
    "        universe=isin,\n",
    "        fields=[\"TR.RevenueMean\", \"TR.EarningsMean\", \"TR.F.EmpAvg\", \"TR.EPSMean\", \"TR.ROAMean\", \"TR.ROEMean\",\n",
    "        \"TR.Volume\", \"TR.CompanyMarketCap\", \"TR.FCFMean\", \"TR.WACC\", \"TR.EBITDAMean\", \"TR.OrganicSalesGrowthMean\"],\n",
    "        interval=\"1Y\",\n",
    "        start=\"2000-01-01\",\n",
    "        end=\"2023-01-01\",\n",
    "    )\n",
    "    \n",
    "    df.index = pd.to_datetime(df.index)\n",
    "    df = df.groupby(df.index.year).first()\n",
    "\n",
    "    financials_data_dict[isin] = df\n",
    "\n",
    "# Assume `dfs_dict` is the dictionary of dataframes\n",
    "dfs = []\n",
    "for key, df in financials_data_dict.items():\n",
    "    df['key'] = key  # Add a new column containing the key\n",
    "    dfs.append(df)\n",
    "\n",
    "# Concatenate the dataframes into a single one\n",
    "result = pd.concat(dfs)\n",
    "\n",
    "result.to_csv('comp_financials.csv')\n",
    "\n",
    "result.head()"
   ]
  },
  {
   "cell_type": "code",
   "execution_count": null,
   "metadata": {},
   "outputs": [],
   "source": [
    "rd.close_session()"
   ]
  }
 ],
 "metadata": {
  "kernelspec": {
   "display_name": "Python 3 (ipykernel)",
   "language": "python",
   "name": "python3"
  },
  "language_info": {
   "codemirror_mode": {
    "name": "ipython",
    "version": 3
   },
   "file_extension": ".py",
   "mimetype": "text/x-python",
   "name": "python",
   "nbconvert_exporter": "python",
   "pygments_lexer": "ipython3",
   "version": "3.9.12"
  },
  "vscode": {
   "interpreter": {
    "hash": "092fd3b47a62a288d64e0d56cb1d943a7dfc85b85fdb59434f57bdf2cec50c7f"
   }
  }
 },
 "nbformat": 4,
 "nbformat_minor": 2
}
