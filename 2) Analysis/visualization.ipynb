{
 "cells": [
  {
   "cell_type": "code",
   "execution_count": 7,
   "metadata": {},
   "outputs": [
    {
     "name": "stdout",
     "output_type": "stream",
     "text": [
      "could not add ISO 3 code for -> Ireland; Republic of\n",
      "could not add ISO 3 code for -> Korea; Republic (S. Korea)\n",
      "could not add ISO 3 code for -> Macau\n",
      "could not add ISO 3 code for -> Virgin Islands; British\n"
     ]
    },
    {
     "data": {
      "application/vnd.plotly.v1+json": {
       "config": {
        "plotlyServerURL": "https://plot.ly"
       },
       "data": [
        {
         "coloraxis": "coloraxis",
         "geo": "geo",
         "hovertemplate": "<b>%{hovertext}</b><br><br>Year=2002<br>iso_alpha=%{location}<br>ESG Score=%{z}<extra></extra>",
         "hovertext": [
          "Bermuda",
          "Ireland; Republic of",
          "Taiwan",
          "Germany",
          "Denmark",
          "Belgium",
          "Finland",
          "Portugal",
          "Greece",
          "Sweden",
          "South Africa",
          "France",
          "United States of America",
          "Austria",
          "Norway",
          "Italy",
          "Hong Kong",
          "Spain",
          "Australia",
          "Canada",
          "Netherlands",
          "Mexico",
          "Switzerland",
          "United Kingdom",
          "Japan"
         ],
         "locations": [
          "BMU",
          " ",
          "TWN",
          "DEU",
          "DNK",
          "BEL",
          "FIN",
          "PRT",
          "GRC",
          "SWE",
          "ZAF",
          "FRA",
          "USA",
          "AUT",
          "NOR",
          "ITA",
          "HKG",
          "ESP",
          "AUS",
          "CAN",
          "NLD",
          "MEX",
          "CHE",
          "GBR",
          "JPN"
         ],
         "name": "",
         "type": "choropleth",
         "z": [
          26.9858469703671,
          33.964164692115226,
          23.6657161055655,
          37.05396403541219,
          27.818271584399,
          32.18875854996581,
          38.02021220311402,
          39.0365384615384,
          26.670841446789762,
          34.13899293924836,
          50.6763508512213,
          39.59997129098139,
          30.277021288347257,
          60.9886566655035,
          45.391007233045684,
          31.12601253806959,
          27.416355779666304,
          39.071299043228784,
          43.620132313378235,
          48.54570564505005,
          43.86722449211785,
          49.1428571428572,
          35.62852047483796,
          41.10314914160556,
          36.191149668369796
         ]
        }
       ],
       "frames": [
        {
         "data": [
          {
           "coloraxis": "coloraxis",
           "geo": "geo",
           "hovertemplate": "<b>%{hovertext}</b><br><br>Year=2002<br>iso_alpha=%{location}<br>ESG Score=%{z}<extra></extra>",
           "hovertext": [
            "Bermuda",
            "Ireland; Republic of",
            "Taiwan",
            "Germany",
            "Denmark",
            "Belgium",
            "Finland",
            "Portugal",
            "Greece",
            "Sweden",
            "South Africa",
            "France",
            "United States of America",
            "Austria",
            "Norway",
            "Italy",
            "Hong Kong",
            "Spain",
            "Australia",
            "Canada",
            "Netherlands",
            "Mexico",
            "Switzerland",
            "United Kingdom",
            "Japan"
           ],
           "locations": [
            "BMU",
            " ",
            "TWN",
            "DEU",
            "DNK",
            "BEL",
            "FIN",
            "PRT",
            "GRC",
            "SWE",
            "ZAF",
            "FRA",
            "USA",
            "AUT",
            "NOR",
            "ITA",
            "HKG",
            "ESP",
            "AUS",
            "CAN",
            "NLD",
            "MEX",
            "CHE",
            "GBR",
            "JPN"
           ],
           "name": "",
           "type": "choropleth",
           "z": [
            26.9858469703671,
            33.964164692115226,
            23.6657161055655,
            37.05396403541219,
            27.818271584399,
            32.18875854996581,
            38.02021220311402,
            39.0365384615384,
            26.670841446789762,
            34.13899293924836,
            50.6763508512213,
            39.59997129098139,
            30.277021288347257,
            60.9886566655035,
            45.391007233045684,
            31.12601253806959,
            27.416355779666304,
            39.071299043228784,
            43.620132313378235,
            48.54570564505005,
            43.86722449211785,
            49.1428571428572,
            35.62852047483796,
            41.10314914160556,
            36.191149668369796
           ]
          }
         ],
         "name": "2002"
        },
        {
         "data": [
          {
           "coloraxis": "coloraxis",
           "geo": "geo",
           "hovertemplate": "<b>%{hovertext}</b><br><br>Year=2003<br>iso_alpha=%{location}<br>ESG Score=%{z}<extra></extra>",
           "hovertext": [
            "Hong Kong",
            "Belgium",
            "Japan",
            "United States of America",
            "China",
            "Ireland; Republic of",
            "Bermuda",
            "Sweden",
            "Norway",
            "United Kingdom",
            "Italy",
            "Canada",
            "Switzerland",
            "Spain",
            "Portugal",
            "Taiwan",
            "Australia",
            "Netherlands",
            "Finland",
            "Greece",
            "Denmark",
            "Germany",
            "Mexico",
            "Austria",
            "France"
           ],
           "locations": [
            "HKG",
            "BEL",
            "JPN",
            "USA",
            "CHN",
            " ",
            "BMU",
            "SWE",
            "NOR",
            "GBR",
            "ITA",
            "CAN",
            "CHE",
            "ESP",
            "PRT",
            "TWN",
            "AUS",
            "NLD",
            "FIN",
            "GRC",
            "DNK",
            "DEU",
            "MEX",
            "AUT",
            "FRA"
           ],
           "name": "",
           "type": "choropleth",
           "z": [
            34.450522214654306,
            30.16621555689621,
            35.4546749064973,
            29.36412271101328,
            25.1002996292722,
            33.28240091809127,
            31.9416187527642,
            35.065607931707916,
            40.20032566739531,
            41.898492185742434,
            36.12684145095905,
            38.991259744628,
            39.152972297636666,
            35.498644847029134,
            18.17910918868365,
            20.1774185619715,
            52.48274325853303,
            43.805080021221855,
            40.400429694587466,
            27.68846322473761,
            29.245623556206365,
            38.1274790833936,
            55.9413434247871,
            55.01693961374076,
            42.208969252385735
           ]
          }
         ],
         "name": "2003"
        },
        {
         "data": [
          {
           "coloraxis": "coloraxis",
           "geo": "geo",
           "hovertemplate": "<b>%{hovertext}</b><br><br>Year=2004<br>iso_alpha=%{location}<br>ESG Score=%{z}<extra></extra>",
           "hovertext": [
            "New Zealand",
            "Bermuda",
            "France",
            "Sweden",
            "Norway",
            "Singapore",
            "Denmark",
            "Canada",
            "Portugal",
            "Mexico",
            "Switzerland",
            "Finland",
            "Italy",
            "Brazil",
            "United States of America",
            "Australia",
            "United Kingdom",
            "Japan",
            "Korea; Republic (S. Korea)",
            "Ireland; Republic of",
            "Belgium",
            "Greece",
            "Germany",
            "Luxembourg",
            "China",
            "Netherlands",
            "Spain",
            "Austria",
            "Hong Kong",
            "Taiwan",
            "South Africa"
           ],
           "locations": [
            "NZL",
            "BMU",
            "FRA",
            "SWE",
            "NOR",
            "SGP",
            "DNK",
            "CAN",
            "PRT",
            "MEX",
            "CHE",
            "FIN",
            "ITA",
            "BRA",
            "USA",
            "AUS",
            "GBR",
            "JPN",
            " ",
            " ",
            "BEL",
            "GRC",
            "DEU",
            "LUX",
            "CHN",
            "NLD",
            "ESP",
            "AUT",
            "HKG",
            "TWN",
            "ZAF"
           ],
           "name": "",
           "type": "choropleth",
           "z": [
            32.38549109873283,
            29.571059168343037,
            42.30952679955198,
            38.395489980373966,
            36.50709218549241,
            25.410330635871457,
            30.60606936221267,
            29.654771580892366,
            19.624076082121448,
            62.6611479028698,
            38.626109921769526,
            44.02831652833026,
            39.35475851190062,
            63.0186017460026,
            31.227526646106497,
            35.09266837688821,
            35.74969238163589,
            33.27942888657932,
            60.7103547689614,
            39.04094012758709,
            30.93473435155368,
            30.52504312573935,
            38.191124576622315,
            20.6454343440133,
            26.836366469150473,
            36.19440335290896,
            39.99287629754941,
            49.340542029702924,
            26.047224514619717,
            20.0113738234776,
            54.7257923423726
           ]
          }
         ],
         "name": "2004"
        },
        {
         "data": [
          {
           "coloraxis": "coloraxis",
           "geo": "geo",
           "hovertemplate": "<b>%{hovertext}</b><br><br>Year=2005<br>iso_alpha=%{location}<br>ESG Score=%{z}<extra></extra>",
           "hovertext": [
            "Ireland; Republic of",
            "Greece",
            "Italy",
            "Sweden",
            "Canada",
            "Germany",
            "United Kingdom",
            "Spain",
            "Finland",
            "China",
            "Singapore",
            "United States of America",
            "France",
            "Denmark",
            "Hong Kong",
            "Portugal",
            "Norway",
            "Australia",
            "Belgium",
            "Netherlands",
            "Korea; Republic (S. Korea)",
            "Bermuda",
            "Mexico",
            "Austria",
            "Taiwan",
            "Japan",
            "New Zealand",
            "Switzerland",
            "Luxembourg"
           ],
           "locations": [
            " ",
            "GRC",
            "ITA",
            "SWE",
            "CAN",
            "DEU",
            "GBR",
            "ESP",
            "FIN",
            "CHN",
            "SGP",
            "USA",
            "FRA",
            "DNK",
            "HKG",
            "PRT",
            "NOR",
            "AUS",
            "BEL",
            "NLD",
            " ",
            "BMU",
            "MEX",
            "AUT",
            "TWN",
            "JPN",
            "NZL",
            "CHE",
            "LUX"
           ],
           "name": "",
           "type": "choropleth",
           "z": [
            40.55347704899854,
            32.03663596312811,
            44.16166116554345,
            39.857890437577545,
            29.15216202401412,
            39.91003138904918,
            37.70587207811951,
            43.005123399128095,
            34.98010300998883,
            25.880112268062327,
            26.681326232332285,
            34.20344541102915,
            46.98166567983408,
            24.52168890996718,
            28.0299716100585,
            42.00242240610724,
            38.67124834470585,
            33.91260847829301,
            39.616425450926585,
            42.98890833227621,
            57.4566080178687,
            30.109030548357225,
            33.5482746601603,
            37.15315492684544,
            18.72932901642505,
            33.712396866813336,
            34.077018564723225,
            40.738999236087096,
            32.0111860342242
           ]
          }
         ],
         "name": "2005"
        },
        {
         "data": [
          {
           "coloraxis": "coloraxis",
           "geo": "geo",
           "hovertemplate": "<b>%{hovertext}</b><br><br>Year=2006<br>iso_alpha=%{location}<br>ESG Score=%{z}<extra></extra>",
           "hovertext": [
            "Japan",
            "Spain",
            "China",
            "Netherlands",
            "Hong Kong",
            "Taiwan",
            "Greece",
            "Portugal",
            "Ireland; Republic of",
            "Austria",
            "Germany",
            "Luxembourg",
            "Denmark",
            "France",
            "Mexico",
            "United States of America",
            "Finland",
            "Singapore",
            "Australia",
            "Korea; Republic (S. Korea)",
            "United Kingdom",
            "Belgium",
            "New Zealand",
            "Bermuda",
            "Italy",
            "Jersey",
            "Sweden",
            "Switzerland",
            "Norway",
            "Canada"
           ],
           "locations": [
            "JPN",
            "ESP",
            "CHN",
            "NLD",
            "HKG",
            "TWN",
            "GRC",
            "PRT",
            " ",
            "AUT",
            "DEU",
            "LUX",
            "DNK",
            "FRA",
            "MEX",
            "USA",
            "FIN",
            "SGP",
            "AUS",
            " ",
            "GBR",
            "BEL",
            "NZL",
            "BMU",
            "ITA",
            "JEY",
            "SWE",
            "CHE",
            "NOR",
            "CAN"
           ],
           "name": "",
           "type": "choropleth",
           "z": [
            34.460940127809415,
            43.25621463769991,
            30.143897874577156,
            45.44671956835067,
            27.79198491644693,
            17.582110113928,
            29.84384868796205,
            39.269415902111746,
            40.371198814917086,
            37.23833861928126,
            43.58670882263021,
            31.263826830040234,
            27.671477518013393,
            46.009936864877886,
            69.5418776782236,
            35.24199953918082,
            33.723199526752275,
            26.570234815936505,
            37.00535955710497,
            21.386124930901,
            37.416973866056836,
            34.57400362077256,
            35.12568398487076,
            27.3825067066069,
            44.18629359209311,
            35.8099188036684,
            40.704787820130996,
            42.59526960371862,
            37.06380167749146,
            31.922594702630743
           ]
          }
         ],
         "name": "2006"
        },
        {
         "data": [
          {
           "coloraxis": "coloraxis",
           "geo": "geo",
           "hovertemplate": "<b>%{hovertext}</b><br><br>Year=2007<br>iso_alpha=%{location}<br>ESG Score=%{z}<extra></extra>",
           "hovertext": [
            "Korea; Republic (S. Korea)",
            "China",
            "Denmark",
            "Poland",
            "Thailand",
            "Spain",
            "Greece",
            "Bermuda",
            "Germany",
            "United States of America",
            "Luxembourg",
            "Hong Kong",
            "Czech Republic",
            "New Zealand",
            "Portugal",
            "Canada",
            "Taiwan",
            "Switzerland",
            "Belgium",
            "Jersey",
            "Austria",
            "France",
            "Finland",
            "Chile",
            "Norway",
            "Italy",
            "Netherlands",
            "United Kingdom",
            "Singapore",
            "Ireland; Republic of",
            "Brazil",
            "Saudi Arabia",
            "Australia",
            "India",
            "Japan",
            "Mexico"
           ],
           "locations": [
            " ",
            "CHN",
            "DNK",
            "POL",
            "THA",
            "ESP",
            "GRC",
            "BMU",
            "DEU",
            "USA",
            "LUX",
            "HKG",
            "CZE",
            "NZL",
            "PRT",
            "CAN",
            "TWN",
            "CHE",
            "BEL",
            "JEY",
            "AUT",
            "FRA",
            "FIN",
            "CHL",
            "NOR",
            "ITA",
            "NLD",
            "GBR",
            "SGP",
            " ",
            "BRA",
            "SAU",
            "AUS",
            "IND",
            "JPN",
            "MEX"
           ],
           "name": "",
           "type": "choropleth",
           "z": [
            40.94815928372888,
            37.572726005302215,
            34.23076986408253,
            37.5624750957788,
            27.187692617140335,
            53.409282649812695,
            37.463285097554525,
            34.50257462206983,
            49.06350136886081,
            40.45227631744947,
            32.9294125945432,
            29.615057523889934,
            44.1394706066431,
            41.56759909022291,
            51.6868233974876,
            33.11785909197423,
            51.3271573160959,
            40.25246706552901,
            39.31688986694891,
            28.8683409486402,
            38.140279411581076,
            50.250288433870324,
            42.90085290238405,
            28.37192228061785,
            43.13140226712677,
            43.11379710713061,
            51.04466015518094,
            42.16305204326745,
            32.373960534721675,
            41.85602893828883,
            61.11429831833176,
            20.284932555653,
            43.44344862969858,
            49.32241103460041,
            37.14851159475507,
            47.5452270474138
           ]
          }
         ],
         "name": "2007"
        },
        {
         "data": [
          {
           "coloraxis": "coloraxis",
           "geo": "geo",
           "hovertemplate": "<b>%{hovertext}</b><br><br>Year=2008<br>iso_alpha=%{location}<br>ESG Score=%{z}<extra></extra>",
           "hovertext": [
            "Italy",
            "Switzerland",
            "Germany",
            "Czech Republic",
            "Brazil",
            "Malaysia",
            "United States of America",
            "Finland",
            "Australia",
            "Saudi Arabia",
            "Egypt",
            "Qatar",
            "Singapore",
            "Thailand",
            "Luxembourg",
            "Sweden",
            "Mexico",
            "Japan",
            "France",
            "Turkey",
            "United Arab Emirates",
            "Denmark",
            "Greece",
            "Austria",
            "Netherlands",
            "Chile",
            "India",
            "Philippines",
            "South Africa",
            "China",
            "Hungary",
            "Poland",
            "Ireland; Republic of",
            "Spain",
            "United Kingdom",
            "Bermuda",
            "Hong Kong",
            "Belgium",
            "Israel",
            "Morocco",
            "Taiwan",
            "Canada",
            "Korea; Republic (S. Korea)",
            "Jersey",
            "Cayman Islands",
            "New Zealand",
            "Norway",
            "Portugal"
           ],
           "locations": [
            "ITA",
            "CHE",
            "DEU",
            "CZE",
            "BRA",
            "MYS",
            "USA",
            "FIN",
            "AUS",
            "SAU",
            "EGY",
            "QAT",
            "SGP",
            "THA",
            "LUX",
            "SWE",
            "MEX",
            "JPN",
            "FRA",
            "TUR",
            "ARE",
            "DNK",
            "GRC",
            "AUT",
            "NLD",
            "CHL",
            "IND",
            "PHL",
            "ZAF",
            "CHN",
            "HUN",
            "POL",
            " ",
            "ESP",
            "GBR",
            "BMU",
            "HKG",
            "BEL",
            "ISR",
            "MAR",
            "TWN",
            "CAN",
            " ",
            "JEY",
            "CYM",
            "NZL",
            "NOR",
            "PRT"
           ],
           "name": "",
           "type": "choropleth",
           "z": [
            50.999143263452424,
            42.151556129830425,
            50.50799242438121,
            34.7628392966655,
            54.4063478184579,
            32.03732444315575,
            41.129494404308495,
            45.751301936107495,
            48.6026751452913,
            20.85535346410863,
            21.8111838209616,
            21.2089608218005,
            33.439078808340106,
            39.07617300521348,
            45.3882983545136,
            55.077765605489354,
            38.982177028912005,
            40.12235427339822,
            50.71984975946389,
            31.75103415807691,
            17.7113802376368,
            43.68818054521424,
            42.19329195875309,
            42.621166080656984,
            56.91700314252999,
            33.880543927153084,
            42.047479738730175,
            21.8586850193367,
            47.515537828079495,
            31.627812708310007,
            52.561942236596295,
            34.02056524152055,
            42.99054229994738,
            62.400725122712224,
            46.011079535397464,
            31.26284880214226,
            32.29191674319441,
            39.6043565322971,
            33.7255895692605,
            48.0865488426663,
            38.70114395793231,
            34.83633819841142,
            47.98346252931325,
            24.7075251510294,
            28.3004861782798,
            37.236818637890636,
            48.8576300418371,
            58.913859774430634
           ]
          }
         ],
         "name": "2008"
        },
        {
         "data": [
          {
           "coloraxis": "coloraxis",
           "geo": "geo",
           "hovertemplate": "<b>%{hovertext}</b><br><br>Year=2009<br>iso_alpha=%{location}<br>ESG Score=%{z}<extra></extra>",
           "hovertext": [
            "Malaysia",
            "Netherlands",
            "Jersey",
            "Saudi Arabia",
            "Finland",
            "Norway",
            "Israel",
            "Ireland; Republic of",
            "Italy",
            "United Arab Emirates",
            "Panama",
            "Philippines",
            "United Kingdom",
            "Morocco",
            "Greece",
            "Portugal",
            "Germany",
            "Korea; Republic (S. Korea)",
            "New Zealand",
            "Qatar",
            "Hong Kong",
            "Poland",
            "Luxembourg",
            "Hungary",
            "France",
            "Mexico",
            "India",
            "Peru",
            "Indonesia",
            "Japan",
            "Russia",
            "Turkey",
            "China",
            "Bermuda",
            "Switzerland",
            "Sweden",
            "Canada",
            "Czech Republic",
            "South Africa",
            "Belgium",
            "Taiwan",
            "Cayman Islands",
            "Denmark",
            "United States of America",
            "Austria",
            "Chile",
            "Thailand",
            "Brazil",
            "Singapore",
            "Egypt",
            "Spain",
            "Australia"
           ],
           "locations": [
            "MYS",
            "NLD",
            "JEY",
            "SAU",
            "FIN",
            "NOR",
            "ISR",
            " ",
            "ITA",
            "ARE",
            "PAN",
            "PHL",
            "GBR",
            "MAR",
            "GRC",
            "PRT",
            "DEU",
            " ",
            "NZL",
            "QAT",
            "HKG",
            "POL",
            "LUX",
            "HUN",
            "FRA",
            "MEX",
            "IND",
            "PER",
            "IDN",
            "JPN",
            "RUS",
            "TUR",
            "CHN",
            "BMU",
            "CHE",
            "SWE",
            "CAN",
            "CZE",
            "ZAF",
            "BEL",
            "TWN",
            "CYM",
            "DNK",
            "USA",
            "AUT",
            "CHL",
            "THA",
            "BRA",
            "SGP",
            "EGY",
            "ESP",
            "AUS"
           ],
           "name": "",
           "type": "choropleth",
           "z": [
            31.057761856569336,
            56.26905031270104,
            29.2161915894401,
            17.181802321787664,
            47.94749962354828,
            51.877304866811635,
            37.13300257893375,
            53.776258669808115,
            59.43289852452435,
            19.3726164326318,
            19.1285052824041,
            35.9753473829191,
            48.564360987719844,
            47.5007467902481,
            42.7174583893053,
            62.208527393940145,
            50.422773019482165,
            55.29476345412017,
            40.8179482191657,
            20.60253656041235,
            29.61731206682507,
            32.272690666531325,
            48.9231911870404,
            59.3437118860709,
            54.58902090307186,
            41.70243785919415,
            46.99998938565009,
            51.4154159673939,
            34.6775652542135,
            41.92271165804936,
            30.7451417949563,
            38.77923733294366,
            29.55209398039972,
            33.95862790091098,
            42.065507491415296,
            54.36503967551071,
            39.795242629810616,
            39.6156756489349,
            47.473852572834936,
            48.97502218192872,
            37.0455494276011,
            26.81963129396,
            45.168889358560264,
            41.60191330646062,
            42.281698930849174,
            28.1272896124036,
            38.37562943769845,
            50.037980803417945,
            34.293612409447576,
            15.1737725885394,
            61.15885696657192,
            39.91206712576651
           ]
          }
         ],
         "name": "2009"
        },
        {
         "data": [
          {
           "coloraxis": "coloraxis",
           "geo": "geo",
           "hovertemplate": "<b>%{hovertext}</b><br><br>Year=2010<br>iso_alpha=%{location}<br>ESG Score=%{z}<extra></extra>",
           "hovertext": [
            "Spain",
            "Hong Kong",
            "Czech Republic",
            "Portugal",
            "Canada",
            "Panama",
            "South Africa",
            "Sweden",
            "Philippines",
            "Italy",
            "Hungary",
            "New Zealand",
            "United Kingdom",
            "Puerto Rico",
            "Israel",
            "Colombia",
            "India",
            "Cayman Islands",
            "Peru",
            "Norway",
            "Greece",
            "Ireland; Republic of",
            "Brazil",
            "Ukraine",
            "Turkey",
            "Saudi Arabia",
            "Poland",
            "Indonesia",
            "Chile",
            "United States of America",
            "Germany",
            "China",
            "Macau",
            "Egypt",
            "Singapore",
            "Austria",
            "Morocco",
            "Japan",
            "Mexico",
            "Korea; Republic (S. Korea)",
            "Denmark",
            "Finland",
            "France",
            "Taiwan",
            "Belgium",
            "Russia",
            "United Arab Emirates",
            "Luxembourg",
            "Australia",
            "Thailand",
            "Jersey",
            "Qatar",
            "Switzerland",
            "Netherlands",
            "Malaysia",
            "Bermuda"
           ],
           "locations": [
            "ESP",
            "HKG",
            "CZE",
            "PRT",
            "CAN",
            "PAN",
            "ZAF",
            "SWE",
            "PHL",
            "ITA",
            "HUN",
            "NZL",
            "GBR",
            "PRI",
            "ISR",
            "COL",
            "IND",
            "CYM",
            "PER",
            "NOR",
            "GRC",
            " ",
            "BRA",
            "UKR",
            "TUR",
            "SAU",
            "POL",
            "IDN",
            "CHL",
            "USA",
            "DEU",
            "CHN",
            " ",
            "EGY",
            "SGP",
            "AUT",
            "MAR",
            "JPN",
            "MEX",
            " ",
            "DNK",
            "FIN",
            "FRA",
            "TWN",
            "BEL",
            "RUS",
            "ARE",
            "LUX",
            "AUS",
            "THA",
            "JEY",
            "QAT",
            "CHE",
            "NLD",
            "MYS",
            "BMU"
           ],
           "name": "",
           "type": "choropleth",
           "z": [
            61.686052916256436,
            29.399104920681776,
            36.8442149162399,
            63.32151792216404,
            39.07885057104631,
            18.1284957626326,
            52.46192186697,
            55.25083470610007,
            30.78408193037124,
            54.58337356462103,
            52.86583954024597,
            42.489316950737546,
            48.134823632326935,
            30.6680768038001,
            48.197758882605044,
            18.4362842785515,
            43.02552382757621,
            41.121005828553,
            34.1608791671911,
            52.63166109143578,
            45.774532738767185,
            50.102860747288204,
            48.832179479946824,
            12.0766811804547,
            42.35903441266573,
            22.722388515277014,
            33.76916378602768,
            37.8828745898417,
            30.6807906667665,
            43.11769011386862,
            52.70729577779683,
            26.413319915171424,
            33.7958572686262,
            25.755858949692627,
            34.20048651543223,
            46.524903519747,
            50.0515737619393,
            42.78058647671819,
            38.910419092191574,
            50.74528718799552,
            47.842010158196544,
            53.02761937080811,
            53.778513312104906,
            32.33666059801101,
            45.2781232654139,
            30.82036471495572,
            20.39299318097145,
            37.5634423195542,
            36.643385068151844,
            41.22024470737275,
            34.37503886746,
            25.807425423442652,
            45.712987326570705,
            59.61691840165601,
            35.3798780226451,
            36.79672304282551
           ]
          }
         ],
         "name": "2010"
        },
        {
         "data": [
          {
           "coloraxis": "coloraxis",
           "geo": "geo",
           "hovertemplate": "<b>%{hovertext}</b><br><br>Year=2011<br>iso_alpha=%{location}<br>ESG Score=%{z}<extra></extra>",
           "hovertext": [
            "Spain",
            "Malaysia",
            "Luxembourg",
            "Hungary",
            "Philippines",
            "India",
            "Thailand",
            "Peru",
            "Australia",
            "United Kingdom",
            "Indonesia",
            "Macau",
            "Mexico",
            "Brazil",
            "Morocco",
            "Ukraine",
            "Japan",
            "New Zealand",
            "Bermuda",
            "Italy",
            "Sweden",
            "Switzerland",
            "Jersey",
            "Canada",
            "Israel",
            "Netherlands",
            "Belgium",
            "Cayman Islands",
            "Norway",
            "Ireland; Republic of",
            "Korea; Republic (S. Korea)",
            "Sri Lanka",
            "Austria",
            "Taiwan",
            "Chile",
            "Panama",
            "Saudi Arabia",
            "United Arab Emirates",
            "France",
            "Qatar",
            "Singapore",
            "Czech Republic",
            "Poland",
            "Puerto Rico",
            "Finland",
            "Germany",
            "Egypt",
            "Denmark",
            "Colombia",
            "United States of America",
            "Hong Kong",
            "Russia",
            "Turkey",
            "Greece",
            "Cyprus",
            "Portugal",
            "China",
            "South Africa"
           ],
           "locations": [
            "ESP",
            "MYS",
            "LUX",
            "HUN",
            "PHL",
            "IND",
            "THA",
            "PER",
            "AUS",
            "GBR",
            "IDN",
            " ",
            "MEX",
            "BRA",
            "MAR",
            "UKR",
            "JPN",
            "NZL",
            "BMU",
            "ITA",
            "SWE",
            "CHE",
            "JEY",
            "CAN",
            "ISR",
            "NLD",
            "BEL",
            "CYM",
            "NOR",
            " ",
            " ",
            "LKA",
            "AUT",
            "TWN",
            "CHL",
            "PAN",
            "SAU",
            "ARE",
            "FRA",
            "QAT",
            "SGP",
            "CZE",
            "POL",
            "PRI",
            "FIN",
            "DEU",
            "EGY",
            "DNK",
            "COL",
            "USA",
            "HKG",
            "RUS",
            "TUR",
            "GRC",
            "CYP",
            "PRT",
            "CHN",
            "ZAF"
           ],
           "name": "",
           "type": "choropleth",
           "z": [
            63.31282827684503,
            37.33041484619937,
            47.780747050984836,
            49.8385513606192,
            31.518030596888547,
            42.65070456998675,
            43.92183596762972,
            45.5293389158498,
            37.131065584414415,
            49.0993518187077,
            45.30654034693725,
            29.54658930848945,
            42.27751107087811,
            46.17129498539536,
            43.42212282928655,
            16.72468081966,
            43.75977597617986,
            43.751482579001426,
            38.72692220103017,
            55.97264912421343,
            55.43996384788261,
            46.179022503176384,
            35.15583765265,
            38.1925435133568,
            43.573558933064476,
            57.682222912702734,
            46.783024274934455,
            38.5267372937264,
            51.7936393680285,
            44.2577777954433,
            39.80000630104072,
            42.2554165000611,
            49.56968089581429,
            32.21188821941013,
            30.400112719625856,
            23.7016612899691,
            22.448288747706172,
            21.32212699229715,
            55.48604170878469,
            22.173993367048634,
            36.83021082375637,
            35.9610655459116,
            33.84488011995602,
            34.4393060860707,
            56.43335551777988,
            50.218643306579146,
            27.709380704593002,
            47.63939497193496,
            16.4270087235996,
            43.70637080573268,
            30.212326659803953,
            35.27128966633457,
            42.69901787250918,
            45.726419839935915,
            38.9301503891596,
            65.19672389999191,
            27.766815722818304,
            49.069255228678536
           ]
          }
         ],
         "name": "2011"
        },
        {
         "data": [
          {
           "coloraxis": "coloraxis",
           "geo": "geo",
           "hovertemplate": "<b>%{hovertext}</b><br><br>Year=2012<br>iso_alpha=%{location}<br>ESG Score=%{z}<extra></extra>",
           "hovertext": [
            "Cayman Islands",
            "Qatar",
            "Israel",
            "Singapore",
            "Morocco",
            "Bermuda",
            "South Africa",
            "Austria",
            "Greece",
            "Ireland; Republic of",
            "Denmark",
            "Belgium",
            "Sri Lanka",
            "Jersey",
            "Netherlands",
            "Ukraine",
            "Cyprus",
            "Puerto Rico",
            "Turkey",
            "France",
            "Portugal",
            "Norway",
            "Canada",
            "Korea; Republic (S. Korea)",
            "New Zealand",
            "Japan",
            "Chile",
            "Russia",
            "Peru",
            "Hong Kong",
            "Thailand",
            "United States of America",
            "Brazil",
            "Spain",
            "United Arab Emirates",
            "Saudi Arabia",
            "Hungary",
            "China",
            "Malaysia",
            "Czech Republic",
            "United Kingdom",
            "Philippines",
            "Colombia",
            "Italy",
            "Macau",
            "Panama",
            "Taiwan",
            "Sweden",
            "Luxembourg",
            "Indonesia",
            "India",
            "Poland",
            "Switzerland",
            "Mexico",
            "Finland",
            "Germany",
            "Australia",
            "Egypt"
           ],
           "locations": [
            "CYM",
            "QAT",
            "ISR",
            "SGP",
            "MAR",
            "BMU",
            "ZAF",
            "AUT",
            "GRC",
            " ",
            "DNK",
            "BEL",
            "LKA",
            "JEY",
            "NLD",
            "UKR",
            "CYP",
            "PRI",
            "TUR",
            "FRA",
            "PRT",
            "NOR",
            "CAN",
            " ",
            "NZL",
            "JPN",
            "CHL",
            "RUS",
            "PER",
            "HKG",
            "THA",
            "USA",
            "BRA",
            "ESP",
            "ARE",
            "SAU",
            "HUN",
            "CHN",
            "MYS",
            "CZE",
            "GBR",
            "PHL",
            "COL",
            "ITA",
            " ",
            "PAN",
            "TWN",
            "SWE",
            "LUX",
            "IDN",
            "IND",
            "POL",
            "CHE",
            "MEX",
            "FIN",
            "DEU",
            "AUS",
            "EGY"
           ],
           "name": "",
           "type": "choropleth",
           "z": [
            37.0584747822288,
            22.25107825122875,
            38.60060544261115,
            37.126487958840976,
            52.3844658462132,
            40.653700642299164,
            51.441385810174324,
            51.301181302591075,
            49.36154454080008,
            46.3950819725933,
            51.55598704182272,
            47.94446978148872,
            46.6866137522406,
            41.65194278845,
            54.652836436652194,
            20.1005007151523,
            55.2366231819406,
            35.239077527546,
            43.45026440193737,
            58.00491286035237,
            64.51290078122742,
            56.52110012434882,
            39.950259058929895,
            42.90192629975051,
            41.18600965286305,
            43.42068692998433,
            30.86884041913841,
            39.38899723894878,
            44.5492541061257,
            33.261179338303045,
            47.56493911087977,
            44.52486007820141,
            49.76122551688677,
            66.34441754787444,
            29.1852799752805,
            27.497630937513623,
            55.62920057491305,
            27.14590269248586,
            39.83582818915611,
            34.7843913337035,
            48.9877614654954,
            34.601782262942635,
            45.9209795817704,
            57.19640741698693,
            30.912550307682,
            21.5297466631059,
            35.7547777164706,
            58.197964250562706,
            52.62688368261962,
            38.55514695065342,
            42.00580530757729,
            35.58508251787501,
            45.654450705536554,
            43.2826110365882,
            57.25765367752975,
            53.73044728433352,
            37.27698607486639,
            23.729857594900135
           ]
          }
         ],
         "name": "2012"
        },
        {
         "data": [
          {
           "coloraxis": "coloraxis",
           "geo": "geo",
           "hovertemplate": "<b>%{hovertext}</b><br><br>Year=2013<br>iso_alpha=%{location}<br>ESG Score=%{z}<extra></extra>",
           "hovertext": [
            "Turkey",
            "Netherlands",
            "Czech Republic",
            "Singapore",
            "Japan",
            "Bermuda",
            "Brazil",
            "Denmark",
            "Qatar",
            "Malaysia",
            "Saudi Arabia",
            "Thailand",
            "Egypt",
            "Macau",
            "United Arab Emirates",
            "Australia",
            "Finland",
            "Switzerland",
            "Luxembourg",
            "Mexico",
            "Russia",
            "Morocco",
            "Korea; Republic (S. Korea)",
            "Austria",
            "France",
            "Belgium",
            "Jersey",
            "Taiwan",
            "Philippines",
            "United Kingdom",
            "New Zealand",
            "Chile",
            "Israel",
            "Sri Lanka",
            "Norway",
            "Canada",
            "Spain",
            "Panama",
            "Cayman Islands",
            "Portugal",
            "Colombia",
            "Poland",
            "Indonesia",
            "India",
            "Ukraine",
            "Greece",
            "Ireland; Republic of",
            "Hungary",
            "South Africa",
            "Germany",
            "Italy",
            "Cyprus",
            "Hong Kong",
            "Sweden",
            "United States of America",
            "China"
           ],
           "locations": [
            "TUR",
            "NLD",
            "CZE",
            "SGP",
            "JPN",
            "BMU",
            "BRA",
            "DNK",
            "QAT",
            "MYS",
            "SAU",
            "THA",
            "EGY",
            " ",
            "ARE",
            "AUS",
            "FIN",
            "CHE",
            "LUX",
            "MEX",
            "RUS",
            "MAR",
            " ",
            "AUT",
            "FRA",
            "BEL",
            "JEY",
            "TWN",
            "PHL",
            "GBR",
            "NZL",
            "CHL",
            "ISR",
            "LKA",
            "NOR",
            "CAN",
            "ESP",
            "PAN",
            "CYM",
            "PRT",
            "COL",
            "POL",
            "IDN",
            "IND",
            "UKR",
            "GRC",
            " ",
            "HUN",
            "ZAF",
            "DEU",
            "ITA",
            "CYP",
            "HKG",
            "SWE",
            "USA",
            "CHN"
           ],
           "name": "",
           "type": "choropleth",
           "z": [
            43.71234097480942,
            57.44006004265669,
            33.0544639596893,
            37.67506338722471,
            43.06705465718312,
            39.97779120577356,
            48.72166623070739,
            51.97462249614201,
            22.671327367896602,
            39.152446937857455,
            25.153603928691467,
            48.84772798701485,
            23.492029592270196,
            33.866276128934345,
            33.0078320639732,
            37.152965365009585,
            56.54043809145983,
            47.4919972282475,
            52.775734723247375,
            42.741785601515794,
            36.676729493927304,
            52.7060937462011,
            43.04698549181737,
            51.895591914679954,
            58.270314963785,
            48.536947361285826,
            42.19476610203345,
            35.5488431466092,
            33.332778891690374,
            49.48327671132794,
            36.98639320110758,
            37.533913936876,
            44.261057405764106,
            48.4635190345353,
            56.35059754027945,
            37.080101218007144,
            63.95473985278168,
            19.4217999503967,
            34.6609012841092,
            63.34860831808719,
            34.6699277028193,
            36.86694104507086,
            41.58461970784736,
            45.67881131272933,
            20.3146274987462,
            45.9106453563447,
            47.49412729677921,
            53.96485479193975,
            50.36213395616891,
            54.297825141352625,
            55.36799509694627,
            56.1772496417315,
            32.640908646208274,
            57.85263835195043,
            44.974871953274736,
            27.590585187755522
           ]
          }
         ],
         "name": "2013"
        },
        {
         "data": [
          {
           "coloraxis": "coloraxis",
           "geo": "geo",
           "hovertemplate": "<b>%{hovertext}</b><br><br>Year=2014<br>iso_alpha=%{location}<br>ESG Score=%{z}<extra></extra>",
           "hovertext": [
            "South Africa",
            "Indonesia",
            "Taiwan",
            "Denmark",
            "Russia",
            "Australia",
            "Mexico",
            "Poland",
            "New Zealand",
            "Luxembourg",
            "Malaysia",
            "Philippines",
            "Hungary",
            "Thailand",
            "Hong Kong",
            "Saudi Arabia",
            "Egypt",
            "Finland",
            "Macau",
            "India",
            "Colombia",
            "United Arab Emirates",
            "United Kingdom",
            "Panama",
            "Morocco",
            "Chile",
            "China",
            "Spain",
            "Cayman Islands",
            "Czech Republic",
            "Greece",
            "Sweden",
            "Sri Lanka",
            "Israel",
            "United States of America",
            "Cyprus",
            "Jersey",
            "Qatar",
            "Germany",
            "Italy",
            "Switzerland",
            "Bermuda",
            "Canada",
            "Singapore",
            "Isle of Man",
            "France",
            "Norway",
            "Brazil",
            "Portugal",
            "Turkey",
            "Ukraine",
            "Austria",
            "Japan",
            "Ireland; Republic of",
            "Korea; Republic (S. Korea)",
            "Belgium",
            "Netherlands"
           ],
           "locations": [
            "ZAF",
            "IDN",
            "TWN",
            "DNK",
            "RUS",
            "AUS",
            "MEX",
            "POL",
            "NZL",
            "LUX",
            "MYS",
            "PHL",
            "HUN",
            "THA",
            "HKG",
            "SAU",
            "EGY",
            "FIN",
            " ",
            "IND",
            "COL",
            "ARE",
            "GBR",
            "PAN",
            "MAR",
            "CHL",
            "CHN",
            "ESP",
            "CYM",
            "CZE",
            "GRC",
            "SWE",
            "LKA",
            "ISR",
            "USA",
            "CYP",
            "JEY",
            "QAT",
            "DEU",
            "ITA",
            "CHE",
            "BMU",
            "CAN",
            "SGP",
            "IMN",
            "FRA",
            "NOR",
            "BRA",
            "PRT",
            "TUR",
            "UKR",
            "AUT",
            "JPN",
            " ",
            " ",
            "BEL",
            "NLD"
           ],
           "name": "",
           "type": "choropleth",
           "z": [
            51.02181809920368,
            44.06272298495327,
            39.68137694242855,
            53.67428843859568,
            42.77377407451405,
            37.2540402097177,
            44.02236022266361,
            33.861616483489314,
            35.11615768922701,
            51.30662084829285,
            41.21263472264637,
            34.757344663878705,
            58.85646302305977,
            50.473356002018626,
            34.70587130501641,
            25.310522739231835,
            15.750043363138952,
            59.47025733145958,
            34.79184557284495,
            45.52252249467843,
            52.7948302617177,
            27.000819729547715,
            50.11651599907187,
            21.2932276092434,
            53.72271376981945,
            32.631730838999694,
            28.350175971838862,
            63.68322975132631,
            39.1012223906961,
            27.1603574061058,
            48.789029813128586,
            56.76207986654043,
            52.8302737803373,
            41.19159216195701,
            44.61936069209498,
            64.7249896655784,
            44.290489758635246,
            17.78685982858773,
            54.892340073331994,
            55.97923432864073,
            47.42851365328091,
            44.44937796002596,
            38.02385326987884,
            37.6850203755167,
            28.4468901196842,
            59.23841376053143,
            55.84815321204066,
            48.06730873730491,
            67.86058012880187,
            47.60877989008149,
            27.0478670339766,
            49.99459539605125,
            43.50172623897968,
            45.3534386569591,
            43.973301665793066,
            47.36197098488341,
            54.37941600883309
           ]
          }
         ],
         "name": "2014"
        },
        {
         "data": [
          {
           "coloraxis": "coloraxis",
           "geo": "geo",
           "hovertemplate": "<b>%{hovertext}</b><br><br>Year=2015<br>iso_alpha=%{location}<br>ESG Score=%{z}<extra></extra>",
           "hovertext": [
            "Saudi Arabia",
            "Morocco",
            "Ukraine",
            "Philippines",
            "New Zealand",
            "Sweden",
            "Malta",
            "Thailand",
            "Turkey",
            "Panama",
            "Portugal",
            "Singapore",
            "Netherlands",
            "Sri Lanka",
            "Russia",
            "Qatar",
            "Taiwan",
            "Switzerland",
            "Mexico",
            "Norway",
            "Poland",
            "South Africa",
            "Oman",
            "Peru",
            "Spain",
            "Argentina",
            "India",
            "Bermuda",
            "Germany",
            "Brazil",
            "Israel",
            "Kuwait",
            "Canada",
            "France",
            "United States of America",
            "Italy",
            "Finland",
            "Chile",
            "Korea; Republic (S. Korea)",
            "China",
            "Colombia",
            "Egypt",
            "Jersey",
            "Japan",
            "Cyprus",
            "Denmark",
            "Greece",
            "United Arab Emirates",
            "Isle of Man",
            "Austria",
            "Hungary",
            "Malaysia",
            "Australia",
            "Indonesia",
            "Luxembourg",
            "Hong Kong",
            "Ireland; Republic of",
            "Macau",
            "Guernsey",
            "Czech Republic",
            "United Kingdom",
            "Belgium"
           ],
           "locations": [
            "SAU",
            "MAR",
            "UKR",
            "PHL",
            "NZL",
            "SWE",
            "MLT",
            "THA",
            "TUR",
            "PAN",
            "PRT",
            "SGP",
            "NLD",
            "LKA",
            "RUS",
            "QAT",
            "TWN",
            "CHE",
            "MEX",
            "NOR",
            "POL",
            "ZAF",
            "OMN",
            "PER",
            "ESP",
            "ARG",
            "IND",
            "BMU",
            "DEU",
            "BRA",
            "ISR",
            "KWT",
            "CAN",
            "FRA",
            "USA",
            "ITA",
            "FIN",
            "CHL",
            " ",
            "CHN",
            "COL",
            "EGY",
            "JEY",
            "JPN",
            "CYP",
            "DNK",
            "GRC",
            "ARE",
            "IMN",
            "AUT",
            "HUN",
            "MYS",
            "AUS",
            "IDN",
            "LUX",
            "HKG",
            " ",
            " ",
            "GGY",
            "CZE",
            "GBR",
            "BEL"
           ],
           "name": "",
           "type": "choropleth",
           "z": [
            26.71628007596654,
            57.4610611538232,
            29.479547032,
            36.6275718918276,
            30.310884744464538,
            56.74241023818959,
            37.3527793955865,
            55.679085430843685,
            49.88375432589157,
            21.1305792083991,
            67.40988792358782,
            39.953289219768784,
            56.96036388580145,
            58.6271269507126,
            42.09182889859242,
            15.669559814321303,
            45.88155303757609,
            50.55633417282202,
            42.83052963378281,
            55.222826200936225,
            37.74737148021607,
            50.67246595478938,
            18.61954583516725,
            35.0051696590503,
            60.435001697854176,
            58.1005327261368,
            46.69403211546784,
            38.61425839058989,
            55.040568043368324,
            50.1690475514704,
            40.59404451770632,
            14.565782799248602,
            38.932180564803005,
            61.46927785867068,
            41.08832144245366,
            55.445516474264274,
            61.843696727865336,
            41.05305821819357,
            39.442087442377634,
            30.361578101168867,
            59.332953075745735,
            18.85379958521458,
            49.23507451501225,
            44.45863601209246,
            68.5902008495587,
            55.21836029275727,
            51.995191055364,
            33.328948414190386,
            36.5178514377607,
            51.20133405374281,
            60.5275431833716,
            43.14928537757346,
            38.989672744134914,
            40.68004136670463,
            54.03753838359269,
            37.782563619011086,
            46.536972231603464,
            49.47085174969075,
            43.5530085959885,
            44.8080350568409,
            51.04409158102747,
            50.69853984472815
           ]
          }
         ],
         "name": "2015"
        },
        {
         "data": [
          {
           "coloraxis": "coloraxis",
           "geo": "geo",
           "hovertemplate": "<b>%{hovertext}</b><br><br>Year=2016<br>iso_alpha=%{location}<br>ESG Score=%{z}<extra></extra>",
           "hovertext": [
            "Panama",
            "Italy",
            "Egypt",
            "Oman",
            "Philippines",
            "Denmark",
            "India",
            "United Kingdom",
            "Ireland; Republic of",
            "Japan",
            "Hungary",
            "Peru",
            "Singapore",
            "New Zealand",
            "Thailand",
            "Turkey",
            "Saudi Arabia",
            "Isle of Man",
            "Qatar",
            "France",
            "Norway",
            "Puerto Rico",
            "Israel",
            "Poland",
            "Guernsey",
            "Portugal",
            "Germany",
            "Ukraine",
            "Finland",
            "Hong Kong",
            "Indonesia",
            "Russia",
            "Greece",
            "Czech Republic",
            "Taiwan",
            "Morocco",
            "Austria",
            "Canada",
            "United Arab Emirates",
            "Kuwait",
            "United States of America",
            "Belgium",
            "Macau",
            "Brazil",
            "Luxembourg",
            "Sweden",
            "Monaco",
            "Switzerland",
            "Bermuda",
            "Uruguay",
            "Spain",
            "Mexico",
            "Argentina",
            "Korea; Republic (S. Korea)",
            "China",
            "Cyprus",
            "Netherlands",
            "Australia",
            "Malta",
            "Colombia",
            "Malaysia",
            "Chile",
            "South Africa",
            "Jersey"
           ],
           "locations": [
            "PAN",
            "ITA",
            "EGY",
            "OMN",
            "PHL",
            "DNK",
            "IND",
            "GBR",
            " ",
            "JPN",
            "HUN",
            "PER",
            "SGP",
            "NZL",
            "THA",
            "TUR",
            "SAU",
            "IMN",
            "QAT",
            "FRA",
            "NOR",
            "PRI",
            "ISR",
            "POL",
            "GGY",
            "PRT",
            "DEU",
            "UKR",
            "FIN",
            "HKG",
            "IDN",
            "RUS",
            "GRC",
            "CZE",
            "TWN",
            "MAR",
            "AUT",
            "CAN",
            "ARE",
            "KWT",
            "USA",
            "BEL",
            " ",
            "BRA",
            "LUX",
            "SWE",
            "MCO",
            "CHE",
            "BMU",
            "URY",
            "ESP",
            "MEX",
            "ARG",
            " ",
            "CHN",
            "CYP",
            "NLD",
            "AUS",
            "MLT",
            "COL",
            "MYS",
            "CHL",
            "ZAF",
            "JEY"
           ],
           "name": "",
           "type": "choropleth",
           "z": [
            19.4156808505213,
            57.62344633153315,
            21.05213932275928,
            20.520016836279968,
            37.8947629906673,
            55.47506766315528,
            48.94107063695067,
            51.39465768039998,
            47.45010732278263,
            46.096303958678526,
            64.557784699328,
            40.438691410743964,
            42.857618194745854,
            31.788981518286374,
            54.02552019573497,
            52.76442371529112,
            34.12824259522818,
            42.05154706073815,
            18.09462756473052,
            61.53493170245508,
            57.50081326525751,
            26.7189456850345,
            36.58521497316689,
            40.34338021032397,
            65.81638125984095,
            63.261055829141604,
            57.0871622151426,
            30.7046787996188,
            59.02276194449002,
            44.11674564757124,
            36.97500255328271,
            44.54569709123758,
            52.4827779703936,
            48.4392584490946,
            47.7717714748671,
            49.6359887287014,
            51.50836276219205,
            39.78949780941827,
            28.588692110346802,
            37.914187367778204,
            40.28791432403846,
            53.28936257656135,
            69.9164195974373,
            51.326566392334016,
            52.51911030049912,
            59.08616826458088,
            15.753193163155096,
            51.82658402127541,
            34.73412663077715,
            41.9549601853868,
            63.41287580781818,
            47.70142693097678,
            27.7293793218331,
            42.58846234979428,
            37.61621206515861,
            72.0594991517909,
            56.813321878574804,
            38.888525757730086,
            24.58070187440605,
            57.479494202740455,
            46.611763656657594,
            39.662143890516205,
            50.61256673497822,
            41.419972851976304
           ]
          }
         ],
         "name": "2016"
        },
        {
         "data": [
          {
           "coloraxis": "coloraxis",
           "geo": "geo",
           "hovertemplate": "<b>%{hovertext}</b><br><br>Year=2017<br>iso_alpha=%{location}<br>ESG Score=%{z}<extra></extra>",
           "hovertext": [
            "Hong Kong",
            "Peru",
            "Greece",
            "Switzerland",
            "Argentina",
            "Poland",
            "Uruguay",
            "Austria",
            "Guernsey",
            "Philippines",
            "Taiwan",
            "Australia",
            "Hungary",
            "Cyprus",
            "Georgia",
            "United Kingdom",
            "Czech Republic",
            "Singapore",
            "South Africa",
            "Colombia",
            "Denmark",
            "China",
            "Egypt",
            "Chile",
            "Saudi Arabia",
            "Spain",
            "Cayman Islands",
            "Belgium",
            "Finland",
            "Russia",
            "Canada",
            "France",
            "Qatar",
            "United States of America",
            "Brazil",
            "Slovenia",
            "Puerto Rico",
            "Sweden",
            "Bermuda",
            "Germany",
            "Turkey",
            "Portugal",
            "Thailand",
            "United Arab Emirates",
            "Monaco",
            "Kuwait",
            "Isle of Man",
            "Ireland; Republic of",
            "Oman",
            "Mexico",
            "Korea; Republic (S. Korea)",
            "Morocco",
            "Luxembourg",
            "Pakistan",
            "Israel",
            "Macau",
            "Ukraine",
            "Indonesia",
            "Jersey",
            "Norway",
            "Panama",
            "India",
            "Malaysia",
            "Malta",
            "Japan",
            "New Zealand",
            "Netherlands",
            "Italy"
           ],
           "locations": [
            "HKG",
            "PER",
            "GRC",
            "CHE",
            "ARG",
            "POL",
            "URY",
            "AUT",
            "GGY",
            "PHL",
            "TWN",
            "AUS",
            "HUN",
            "CYP",
            "GEO",
            "GBR",
            "CZE",
            "SGP",
            "ZAF",
            "COL",
            "DNK",
            "CHN",
            "EGY",
            "CHL",
            "SAU",
            "ESP",
            "CYM",
            "BEL",
            "FIN",
            "RUS",
            "CAN",
            "FRA",
            "QAT",
            "USA",
            "BRA",
            "SVN",
            "PRI",
            "SWE",
            "BMU",
            "DEU",
            "TUR",
            "PRT",
            "THA",
            "ARE",
            "MCO",
            "KWT",
            "IMN",
            " ",
            "OMN",
            "MEX",
            " ",
            "MAR",
            "LUX",
            "PAK",
            "ISR",
            " ",
            "UKR",
            "IDN",
            "JEY",
            "NOR",
            "PAN",
            "IND",
            "MYS",
            "MLT",
            "JPN",
            "NZL",
            "NLD",
            "ITA"
           ],
           "name": "",
           "type": "choropleth",
           "z": [
            47.078637809265686,
            38.65260335156554,
            52.55279560516603,
            51.72921746446905,
            36.77166182807873,
            43.683150948414855,
            43.91624187999135,
            55.29994945610751,
            49.6805463420724,
            39.76919665045809,
            51.82675681916193,
            39.76837405007351,
            62.4428829519019,
            66.2994421780898,
            46.6633303864831,
            52.08297587897303,
            60.3764071987331,
            48.138459058064676,
            52.078481266722186,
            60.05444677363789,
            55.20570544929826,
            36.69401072036892,
            24.925085098935984,
            46.13354977523386,
            31.153008454768646,
            63.03105778382147,
            32.4273886125758,
            52.4005556135559,
            61.13715778516324,
            49.60538226843133,
            41.579411705207896,
            61.694108619645796,
            16.467656802235588,
            40.869047397305984,
            51.184442896996345,
            58.0687673824012,
            33.0502944637973,
            59.13235949818932,
            36.33761780987493,
            56.44783672645671,
            55.84901105217291,
            66.75096732163038,
            56.40646893572145,
            28.839844950859668,
            20.151058764731975,
            20.8643169933985,
            46.63426424431355,
            50.85073497885347,
            17.4239178910819,
            47.374954273208324,
            44.83573951039441,
            48.6045264501501,
            53.238060112397896,
            24.6382087527558,
            39.45219695364744,
            62.11238813855605,
            33.1743504711099,
            37.67989317838093,
            40.167111717525565,
            51.314819662145005,
            18.3898221386338,
            50.04753773628269,
            50.34896650977094,
            37.9976233586432,
            47.58242594766107,
            32.552130799975416,
            61.28476390599167,
            58.13051674033475
           ]
          }
         ],
         "name": "2017"
        },
        {
         "data": [
          {
           "coloraxis": "coloraxis",
           "geo": "geo",
           "hovertemplate": "<b>%{hovertext}</b><br><br>Year=2018<br>iso_alpha=%{location}<br>ESG Score=%{z}<extra></extra>",
           "hovertext": [
            "China",
            "Cyprus",
            "New Zealand",
            "Korea; Republic (S. Korea)",
            "Qatar",
            "Isle of Man",
            "Czech Republic",
            "France",
            "Japan",
            "Brazil",
            "Georgia",
            "Monaco",
            "Saudi Arabia",
            "Slovenia",
            "Puerto Rico",
            "Canada",
            "Turkey",
            "Netherlands",
            "Jersey",
            "United Arab Emirates",
            "Italy",
            "South Africa",
            "Chile",
            "Sweden",
            "Morocco",
            "Faroe Islands",
            "Russia",
            "Israel",
            "Finland",
            "Cayman Islands",
            "Colombia",
            "Denmark",
            "Egypt",
            "Spain",
            "Singapore",
            "Kuwait",
            "United Kingdom",
            "Poland",
            "Pakistan",
            "Austria",
            "Guernsey",
            "Macau",
            "Indonesia",
            "Uruguay",
            "Australia",
            "Luxembourg",
            "Philippines",
            "Hong Kong",
            "Thailand",
            "Panama",
            "Malta",
            "Hungary",
            "Argentina",
            "Peru",
            "India",
            "Taiwan",
            "Switzerland",
            "Ukraine",
            "Greece",
            "Ireland; Republic of",
            "Malaysia",
            "Germany",
            "Mexico",
            "Oman",
            "Portugal",
            "Belgium",
            "United States of America",
            "Norway",
            "Bermuda"
           ],
           "locations": [
            "CHN",
            "CYP",
            "NZL",
            " ",
            "QAT",
            "IMN",
            "CZE",
            "FRA",
            "JPN",
            "BRA",
            "GEO",
            "MCO",
            "SAU",
            "SVN",
            "PRI",
            "CAN",
            "TUR",
            "NLD",
            "JEY",
            "ARE",
            "ITA",
            "ZAF",
            "CHL",
            "SWE",
            "MAR",
            "FRO",
            "RUS",
            "ISR",
            "FIN",
            "CYM",
            "COL",
            "DNK",
            "EGY",
            "ESP",
            "SGP",
            "KWT",
            "GBR",
            "POL",
            "PAK",
            "AUT",
            "GGY",
            " ",
            "IDN",
            "URY",
            "AUS",
            "LUX",
            "PHL",
            "HKG",
            "THA",
            "PAN",
            "MLT",
            "HUN",
            "ARG",
            "PER",
            "IND",
            "TWN",
            "CHE",
            "UKR",
            "GRC",
            " ",
            "MYS",
            "DEU",
            "MEX",
            "OMN",
            "PRT",
            "BEL",
            "USA",
            "NOR",
            "BMU"
           ],
           "name": "",
           "type": "choropleth",
           "z": [
            37.338657984448446,
            57.587343199589895,
            36.5641419010949,
            45.658868180720496,
            20.705223242166277,
            50.78781428365765,
            61.8102781835678,
            58.07796533220414,
            50.496706802697176,
            50.09967112711561,
            45.7764269429023,
            23.040594127691826,
            30.663513022708656,
            58.1241819311127,
            27.5627620783395,
            43.7434278354392,
            53.51483332827814,
            54.19953296852111,
            44.28698254763577,
            31.897962161629508,
            54.66302851863968,
            53.21913379521787,
            53.768454573174054,
            52.80573068484007,
            45.542403046048,
            48.2440582554908,
            49.47741182258607,
            37.27247550971553,
            60.22918103814534,
            30.5593933812397,
            59.099780412128304,
            54.30155499928634,
            22.104186648640187,
            59.15621158465953,
            51.5124178527967,
            39.821000059527265,
            51.605245525496194,
            40.56404655830803,
            22.453317980170603,
            52.80434421257811,
            30.9535966744474,
            61.57505015105255,
            39.538651825904864,
            48.698391839327854,
            40.73106616209664,
            48.61449285460255,
            42.27891175986909,
            49.85257208002653,
            57.453510323750486,
            23.0318991572682,
            32.75948116393872,
            62.469783896899365,
            54.00539299054058,
            45.15150760627515,
            51.24837676645866,
            55.81433728480641,
            45.103792356720916,
            29.5611550673293,
            52.38133271987843,
            46.233340561891325,
            52.125210707855615,
            51.456398278078865,
            48.11065012985865,
            18.25471904773135,
            60.18727620034375,
            54.392857756856074,
            41.64939241935466,
            50.349101395869646,
            37.381567804445645
           ]
          }
         ],
         "name": "2018"
        },
        {
         "data": [
          {
           "coloraxis": "coloraxis",
           "geo": "geo",
           "hovertemplate": "<b>%{hovertext}</b><br><br>Year=2019<br>iso_alpha=%{location}<br>ESG Score=%{z}<extra></extra>",
           "hovertext": [
            "Cambodia",
            "Colombia",
            "Malta",
            "Argentina",
            "United States of America",
            "Cyprus",
            "United Arab Emirates",
            "Netherlands",
            "Slovenia",
            "Taiwan",
            "Brazil",
            "Bermuda",
            "Monaco",
            "Australia",
            "Mexico",
            "Switzerland",
            "Cayman Islands",
            "Spain",
            "Thailand",
            "Canada",
            "Luxembourg",
            "Morocco",
            "South Africa",
            "Sweden",
            "Korea; Republic (S. Korea)",
            "Chile",
            "Macau",
            "China",
            "Jersey",
            "Uruguay",
            "Kuwait",
            "Belgium",
            "Austria",
            "Malaysia",
            "Egypt",
            "Isle of Man",
            "Philippines",
            "Faroe Islands",
            "Oman",
            "Guernsey",
            "Indonesia",
            "France",
            "New Zealand",
            "Portugal",
            "Qatar",
            "Pakistan",
            "Russia",
            "Israel",
            "Finland",
            "Poland",
            "Turkey",
            "Greece",
            "Saudi Arabia",
            "Uganda",
            "Germany",
            "Japan",
            "Czech Republic",
            "Puerto Rico",
            "Hungary",
            "United Kingdom",
            "Panama",
            "Georgia",
            "Ireland; Republic of",
            "Singapore",
            "Norway",
            "Denmark",
            "Hong Kong",
            "India",
            "Italy",
            "Ukraine",
            "Peru"
           ],
           "locations": [
            "KHM",
            "COL",
            "MLT",
            "ARG",
            "USA",
            "CYP",
            "ARE",
            "NLD",
            "SVN",
            "TWN",
            "BRA",
            "BMU",
            "MCO",
            "AUS",
            "MEX",
            "CHE",
            "CYM",
            "ESP",
            "THA",
            "CAN",
            "LUX",
            "MAR",
            "ZAF",
            "SWE",
            " ",
            "CHL",
            " ",
            "CHN",
            "JEY",
            "URY",
            "KWT",
            "BEL",
            "AUT",
            "MYS",
            "EGY",
            "IMN",
            "PHL",
            "FRO",
            "OMN",
            "GGY",
            "IDN",
            "FRA",
            "NZL",
            "PRT",
            "QAT",
            "PAK",
            "RUS",
            "ISR",
            "FIN",
            "POL",
            "TUR",
            "GRC",
            "SAU",
            "UGA",
            "DEU",
            "JPN",
            "CZE",
            "PRI",
            "HUN",
            "GBR",
            "PAN",
            "GEO",
            " ",
            "SGP",
            "NOR",
            "DNK",
            "HKG",
            "IND",
            "ITA",
            "UKR",
            "PER"
           ],
           "name": "",
           "type": "choropleth",
           "z": [
            71.5704197811348,
            61.145414460508334,
            36.9121212565276,
            48.8131291218918,
            43.493492355739455,
            36.882759906957716,
            34.51733359946228,
            56.23480859761121,
            59.1518696377439,
            55.96392011675256,
            46.33395548330767,
            40.67176110677087,
            37.0183547947062,
            42.0866468331094,
            51.33809319079163,
            45.84360277174543,
            30.59412064626445,
            61.017493496636284,
            49.64966766205614,
            45.54948381166847,
            51.29023229486837,
            46.5416390719042,
            56.84512829223483,
            50.2687985713673,
            43.51176524745734,
            54.32913791303074,
            60.3626415757747,
            36.06558432521992,
            41.35420768023488,
            57.91631939112785,
            40.3661336810642,
            53.77836168943711,
            52.059998778290655,
            53.60063567865527,
            22.009136984118843,
            57.14054103762795,
            48.570843969696675,
            55.2881962739918,
            20.8881936783886,
            22.4263895060969,
            37.2419897662947,
            59.436827452865046,
            38.994647272012074,
            63.83160229095571,
            26.722193887800124,
            24.67055577059095,
            51.53389742495548,
            37.65802972237826,
            59.45292771533649,
            43.97100128714092,
            59.633253774328075,
            50.89455925772022,
            34.69447824016954,
            27.0707169352211,
            50.292847931404964,
            52.37987021233869,
            55.58715369026295,
            27.2304363965307,
            66.70892353208046,
            52.05565713783565,
            21.3267976703703,
            50.2768536465753,
            50.5285006793884,
            48.14515098095753,
            50.629808974100285,
            57.29962826750951,
            51.06778970367398,
            51.082030857162835,
            58.81855950752826,
            56.1372358038098,
            51.48967598185745
           ]
          }
         ],
         "name": "2019"
        },
        {
         "data": [
          {
           "coloraxis": "coloraxis",
           "geo": "geo",
           "hovertemplate": "<b>%{hovertext}</b><br><br>Year=2020<br>iso_alpha=%{location}<br>ESG Score=%{z}<extra></extra>",
           "hovertext": [
            "Kuwait",
            "Greece",
            "Norway",
            "Oman",
            "Germany",
            "Belgium",
            "United States of America",
            "Mexico",
            "Netherlands",
            "Pakistan",
            "Thailand",
            "Malaysia",
            "Peru",
            "Argentina",
            "Uruguay",
            "Panama",
            "Hong Kong",
            "Taiwan",
            "Malta",
            "Switzerland",
            "Macau",
            "Australia",
            "Uganda",
            "India",
            "Guernsey",
            "Indonesia",
            "Austria",
            "Luxembourg",
            "Poland",
            "Philippines",
            "Bermuda",
            "Ireland; Republic of",
            "Israel",
            "Nigeria",
            "New Zealand",
            "Chile",
            "Kazakhstan",
            "Faroe Islands",
            "Jersey",
            "Egypt",
            "China",
            "South Africa",
            "Saudi Arabia",
            "Denmark",
            "United Arab Emirates",
            "Italy",
            "Colombia",
            "Costa Rica",
            "Japan",
            "Czech Republic",
            "Cyprus",
            "Iceland",
            "Slovenia",
            "Singapore",
            "Portugal",
            "Ukraine",
            "Hungary",
            "Cayman Islands",
            "Turkey",
            "Sweden",
            "Georgia",
            "Puerto Rico",
            "Monaco",
            "United Kingdom",
            "Brazil",
            "Morocco",
            "Cambodia",
            "France",
            "Qatar",
            "Romania",
            "Canada",
            "Isle of Man",
            "Finland",
            "Spain",
            "Russia",
            "Korea; Republic (S. Korea)"
           ],
           "locations": [
            "KWT",
            "GRC",
            "NOR",
            "OMN",
            "DEU",
            "BEL",
            "USA",
            "MEX",
            "NLD",
            "PAK",
            "THA",
            "MYS",
            "PER",
            "ARG",
            "URY",
            "PAN",
            "HKG",
            "TWN",
            "MLT",
            "CHE",
            " ",
            "AUS",
            "UGA",
            "IND",
            "GGY",
            "IDN",
            "AUT",
            "LUX",
            "POL",
            "PHL",
            "BMU",
            " ",
            "ISR",
            "NGA",
            "NZL",
            "CHL",
            "KAZ",
            "FRO",
            "JEY",
            "EGY",
            "CHN",
            "ZAF",
            "SAU",
            "DNK",
            "ARE",
            "ITA",
            "COL",
            "CRI",
            "JPN",
            "CZE",
            "CYP",
            "ISL",
            "SVN",
            "SGP",
            "PRT",
            "UKR",
            "HUN",
            "CYM",
            "TUR",
            "SWE",
            "GEO",
            "PRI",
            "MCO",
            "GBR",
            "BRA",
            "MAR",
            "KHM",
            "FRA",
            "QAT",
            "ROU",
            "CAN",
            "IMN",
            "FIN",
            "ESP",
            "RUS",
            " "
           ],
           "name": "",
           "type": "choropleth",
           "z": [
            41.843607711790064,
            52.55533524475292,
            49.94954594135079,
            19.28712095941465,
            53.264365572880365,
            58.58590015540149,
            45.697061491922526,
            52.92479605927089,
            58.69806175354652,
            30.4374962760507,
            52.46669440768118,
            57.01134707659439,
            56.05839714584102,
            41.86884541883393,
            59.88025484778985,
            21.95088424642,
            54.21092996653283,
            58.544600548367924,
            37.47926036076897,
            48.29410842746096,
            86.7187278684283,
            43.876659409646564,
            28.536117138497,
            52.07902566048688,
            34.503538443294204,
            38.145154481264505,
            58.260375256592866,
            53.6744177450082,
            46.98976915320421,
            48.97167892725136,
            45.93729190555572,
            53.700991532291525,
            44.684565243687786,
            49.1652457636736,
            40.87373242687188,
            54.00961837100607,
            69.1496439523882,
            63.7902671326908,
            47.37842206274738,
            19.592286669642355,
            38.4032715794567,
            59.497680363431314,
            37.41131843345168,
            56.229844739884925,
            43.55897413759451,
            60.17131491256119,
            65.84497088524178,
            49.9487972468916,
            53.001752106122346,
            66.6051277842963,
            40.35864841371871,
            49.6988437634566,
            57.591404317517,
            47.26158490309728,
            68.06704493867541,
            71.0206705759394,
            50.55242465317134,
            33.278523674884795,
            69.48386734541498,
            48.717426393002334,
            63.9217515167704,
            28.1181943422168,
            46.22008770345965,
            52.868350258588364,
            47.95229121333319,
            46.6448222025692,
            73.4976112952663,
            60.2883884891768,
            23.795151021504047,
            71.5807189658643,
            46.5495207884009,
            62.949719473089345,
            51.7946242923316,
            67.07653945503485,
            54.50237625197028,
            46.14367033485943
           ]
          }
         ],
         "name": "2020"
        },
        {
         "data": [
          {
           "coloraxis": "coloraxis",
           "geo": "geo",
           "hovertemplate": "<b>%{hovertext}</b><br><br>Year=2021<br>iso_alpha=%{location}<br>ESG Score=%{z}<extra></extra>",
           "hovertext": [
            "Ukraine",
            "Turkey",
            "United States of America",
            "United Arab Emirates",
            "United Kingdom",
            "Uganda",
            "Thailand",
            "Korea; Republic (S. Korea)",
            "Italy",
            "Germany",
            "Greece",
            "Guernsey",
            "Hong Kong",
            "Hungary",
            "Iceland",
            "India",
            "Georgia",
            "Indonesia",
            "Isle of Man",
            "Israel",
            "Taiwan",
            "Japan",
            "Jersey",
            "Kazakhstan",
            "Uruguay",
            "Ireland; Republic of",
            "Kuwait",
            "France",
            "Faroe Islands",
            "Argentina",
            "Australia",
            "Austria",
            "Belgium",
            "Bermuda",
            "Brazil",
            "Cambodia",
            "Finland",
            "Canada",
            "Chile",
            "China",
            "Colombia",
            "Cyprus",
            "Czech Republic",
            "Denmark",
            "Egypt",
            "Cayman Islands",
            "Luxembourg",
            "Virgin Islands; British",
            "Macau",
            "Saudi Arabia",
            "Russia",
            "Romania",
            "Qatar",
            "Slovenia",
            "Portugal",
            "Poland",
            "South Africa",
            "Philippines",
            "Spain",
            "Peru",
            "Panama",
            "Pakistan",
            "Norway",
            "Oman",
            "Sweden",
            "Malaysia",
            "Switzerland",
            "Malta",
            "Mexico",
            "Monaco",
            "Morocco",
            "Nigeria",
            "Netherlands",
            "Singapore",
            "New Zealand"
           ],
           "locations": [
            "UKR",
            "TUR",
            "USA",
            "ARE",
            "GBR",
            "UGA",
            "THA",
            " ",
            "ITA",
            "DEU",
            "GRC",
            "GGY",
            "HKG",
            "HUN",
            "ISL",
            "IND",
            "GEO",
            "IDN",
            "IMN",
            "ISR",
            "TWN",
            "JPN",
            "JEY",
            "KAZ",
            "URY",
            " ",
            "KWT",
            "FRA",
            "FRO",
            "ARG",
            "AUS",
            "AUT",
            "BEL",
            "BMU",
            "BRA",
            "KHM",
            "FIN",
            "CAN",
            "CHL",
            "CHN",
            "COL",
            "CYP",
            "CZE",
            "DNK",
            "EGY",
            "CYM",
            "LUX",
            " ",
            " ",
            "SAU",
            "RUS",
            "ROU",
            "QAT",
            "SVN",
            "PRT",
            "POL",
            "ZAF",
            "PHL",
            "ESP",
            "PER",
            "PAN",
            "PAK",
            "NOR",
            "OMN",
            "SWE",
            "MYS",
            "CHE",
            "MLT",
            "MEX",
            "MCO",
            "MAR",
            "NGA",
            "NLD",
            "SGP",
            "NZL"
           ],
           "name": "",
           "type": "choropleth",
           "z": [
            79.1985694463076,
            70.14479920532621,
            49.29050865537029,
            59.25387945536212,
            55.64420959059821,
            31.7234013302908,
            53.99965205224974,
            60.17705336723028,
            64.36942880261046,
            57.53829697755975,
            53.52038790250041,
            45.7699684263758,
            58.11962695259273,
            58.176639620293656,
            64.4005601710214,
            57.92318680508624,
            65.5845694565276,
            43.49980719433639,
            71.1573700522645,
            46.778127631272014,
            61.242504580824864,
            54.298842368440525,
            45.86975450078234,
            63.486085455425,
            60.91556267581706,
            56.24536632230257,
            45.612910295638365,
            63.123395184829086,
            64.0348164481026,
            60.315662716423965,
            47.231794904047504,
            62.17769033157541,
            60.26192800334534,
            50.09058297105809,
            54.56179178816364,
            74.0702075989667,
            53.395306266087076,
            50.40275978804807,
            61.30254848423787,
            42.79168324577331,
            63.969541154355916,
            47.070386811925616,
            72.0578299580083,
            60.218644638646126,
            13.890152723737062,
            31.9112608409762,
            57.76135193005712,
            14.3248204666553,
            54.1431408994605,
            42.890825950216,
            63.78700207836922,
            74.3262721312177,
            26.492918203009683,
            66.9341992083593,
            71.81996428866668,
            50.64153562597995,
            59.661550683199934,
            52.213996305983144,
            70.02838158914575,
            61.976526507501376,
            26.4420385857228,
            26.03970302713565,
            52.45836717197349,
            25.700732825231853,
            50.580721250900076,
            63.15710718643327,
            50.54902448900734,
            39.57413778934805,
            57.995091379213186,
            41.184414587692736,
            55.8385232395981,
            64.4559662048851,
            65.35145205468976,
            52.68190520959564,
            42.82876786248719
           ]
          }
         ],
         "name": "2021"
        },
        {
         "data": [
          {
           "coloraxis": "coloraxis",
           "geo": "geo",
           "hovertemplate": "<b>%{hovertext}</b><br><br>Year=2022<br>iso_alpha=%{location}<br>ESG Score=%{z}<extra></extra>",
           "hovertext": [
            "Austria",
            "Bermuda",
            "Canada",
            "Australia",
            "Spain",
            "Sweden",
            "United States of America",
            "Singapore",
            "Belgium",
            "Thailand",
            "South Africa",
            "United Kingdom",
            "Denmark",
            "Malaysia",
            "Japan",
            "Italy",
            "Ireland; Republic of",
            "Netherlands",
            "India",
            "China",
            "New Zealand",
            "Pakistan",
            "Germany",
            "France",
            "Finland",
            "Luxembourg",
            "Poland",
            "Hong Kong",
            "Switzerland"
           ],
           "locations": [
            "AUT",
            "BMU",
            "CAN",
            "AUS",
            "ESP",
            "SWE",
            "USA",
            "SGP",
            "BEL",
            "THA",
            "ZAF",
            "GBR",
            "DNK",
            "MYS",
            "JPN",
            "ITA",
            " ",
            "NLD",
            "IND",
            "CHN",
            "NZL",
            "PAK",
            "DEU",
            "FRA",
            "FIN",
            "LUX",
            "POL",
            "HKG",
            "CHE"
           ],
           "name": "",
           "type": "choropleth",
           "z": [
            56.94669981660702,
            70.0550742543156,
            62.36745805834334,
            49.00736375007181,
            64.2644103786254,
            48.050849473711,
            51.53626468254327,
            57.64788000232313,
            53.0564926397249,
            54.12884639250599,
            61.61945778548784,
            54.63735294517666,
            64.02620804471856,
            63.58294372745214,
            57.81981938674407,
            71.0227688477408,
            55.68399688340386,
            72.11394914335744,
            59.89278973172734,
            54.360581269824884,
            47.84989928852632,
            19.9184210709595,
            67.34654204142693,
            58.05034857015529,
            70.4757598245225,
            57.786644549066295,
            68.59007914546174,
            58.25120601089984,
            58.44080796828917
           ]
          }
         ],
         "name": "2022"
        }
       ],
       "layout": {
        "coloraxis": {
         "cmax": 100,
         "cmin": 0,
         "colorbar": {
          "title": {
           "text": "ESG Score"
          }
         },
         "colorscale": [
          [
           0,
           "rgb(165,0,38)"
          ],
          [
           0.1,
           "rgb(215,48,39)"
          ],
          [
           0.2,
           "rgb(244,109,67)"
          ],
          [
           0.3,
           "rgb(253,174,97)"
          ],
          [
           0.4,
           "rgb(254,224,139)"
          ],
          [
           0.5,
           "rgb(255,255,191)"
          ],
          [
           0.6,
           "rgb(217,239,139)"
          ],
          [
           0.7,
           "rgb(166,217,106)"
          ],
          [
           0.8,
           "rgb(102,189,99)"
          ],
          [
           0.9,
           "rgb(26,152,80)"
          ],
          [
           1,
           "rgb(0,104,55)"
          ]
         ]
        },
        "geo": {
         "center": {},
         "domain": {
          "x": [
           0,
           1
          ],
          "y": [
           0,
           1
          ]
         }
        },
        "height": 900,
        "legend": {
         "tracegroupgap": 0
        },
        "margin": {
         "t": 60
        },
        "sliders": [
         {
          "active": 0,
          "currentvalue": {
           "prefix": "Year="
          },
          "len": 0.9,
          "pad": {
           "b": 10,
           "t": 60
          },
          "steps": [
           {
            "args": [
             [
              "2002"
             ],
             {
              "frame": {
               "duration": 0,
               "redraw": true
              },
              "fromcurrent": true,
              "mode": "immediate",
              "transition": {
               "duration": 0,
               "easing": "linear"
              }
             }
            ],
            "label": "2002",
            "method": "animate"
           },
           {
            "args": [
             [
              "2003"
             ],
             {
              "frame": {
               "duration": 0,
               "redraw": true
              },
              "fromcurrent": true,
              "mode": "immediate",
              "transition": {
               "duration": 0,
               "easing": "linear"
              }
             }
            ],
            "label": "2003",
            "method": "animate"
           },
           {
            "args": [
             [
              "2004"
             ],
             {
              "frame": {
               "duration": 0,
               "redraw": true
              },
              "fromcurrent": true,
              "mode": "immediate",
              "transition": {
               "duration": 0,
               "easing": "linear"
              }
             }
            ],
            "label": "2004",
            "method": "animate"
           },
           {
            "args": [
             [
              "2005"
             ],
             {
              "frame": {
               "duration": 0,
               "redraw": true
              },
              "fromcurrent": true,
              "mode": "immediate",
              "transition": {
               "duration": 0,
               "easing": "linear"
              }
             }
            ],
            "label": "2005",
            "method": "animate"
           },
           {
            "args": [
             [
              "2006"
             ],
             {
              "frame": {
               "duration": 0,
               "redraw": true
              },
              "fromcurrent": true,
              "mode": "immediate",
              "transition": {
               "duration": 0,
               "easing": "linear"
              }
             }
            ],
            "label": "2006",
            "method": "animate"
           },
           {
            "args": [
             [
              "2007"
             ],
             {
              "frame": {
               "duration": 0,
               "redraw": true
              },
              "fromcurrent": true,
              "mode": "immediate",
              "transition": {
               "duration": 0,
               "easing": "linear"
              }
             }
            ],
            "label": "2007",
            "method": "animate"
           },
           {
            "args": [
             [
              "2008"
             ],
             {
              "frame": {
               "duration": 0,
               "redraw": true
              },
              "fromcurrent": true,
              "mode": "immediate",
              "transition": {
               "duration": 0,
               "easing": "linear"
              }
             }
            ],
            "label": "2008",
            "method": "animate"
           },
           {
            "args": [
             [
              "2009"
             ],
             {
              "frame": {
               "duration": 0,
               "redraw": true
              },
              "fromcurrent": true,
              "mode": "immediate",
              "transition": {
               "duration": 0,
               "easing": "linear"
              }
             }
            ],
            "label": "2009",
            "method": "animate"
           },
           {
            "args": [
             [
              "2010"
             ],
             {
              "frame": {
               "duration": 0,
               "redraw": true
              },
              "fromcurrent": true,
              "mode": "immediate",
              "transition": {
               "duration": 0,
               "easing": "linear"
              }
             }
            ],
            "label": "2010",
            "method": "animate"
           },
           {
            "args": [
             [
              "2011"
             ],
             {
              "frame": {
               "duration": 0,
               "redraw": true
              },
              "fromcurrent": true,
              "mode": "immediate",
              "transition": {
               "duration": 0,
               "easing": "linear"
              }
             }
            ],
            "label": "2011",
            "method": "animate"
           },
           {
            "args": [
             [
              "2012"
             ],
             {
              "frame": {
               "duration": 0,
               "redraw": true
              },
              "fromcurrent": true,
              "mode": "immediate",
              "transition": {
               "duration": 0,
               "easing": "linear"
              }
             }
            ],
            "label": "2012",
            "method": "animate"
           },
           {
            "args": [
             [
              "2013"
             ],
             {
              "frame": {
               "duration": 0,
               "redraw": true
              },
              "fromcurrent": true,
              "mode": "immediate",
              "transition": {
               "duration": 0,
               "easing": "linear"
              }
             }
            ],
            "label": "2013",
            "method": "animate"
           },
           {
            "args": [
             [
              "2014"
             ],
             {
              "frame": {
               "duration": 0,
               "redraw": true
              },
              "fromcurrent": true,
              "mode": "immediate",
              "transition": {
               "duration": 0,
               "easing": "linear"
              }
             }
            ],
            "label": "2014",
            "method": "animate"
           },
           {
            "args": [
             [
              "2015"
             ],
             {
              "frame": {
               "duration": 0,
               "redraw": true
              },
              "fromcurrent": true,
              "mode": "immediate",
              "transition": {
               "duration": 0,
               "easing": "linear"
              }
             }
            ],
            "label": "2015",
            "method": "animate"
           },
           {
            "args": [
             [
              "2016"
             ],
             {
              "frame": {
               "duration": 0,
               "redraw": true
              },
              "fromcurrent": true,
              "mode": "immediate",
              "transition": {
               "duration": 0,
               "easing": "linear"
              }
             }
            ],
            "label": "2016",
            "method": "animate"
           },
           {
            "args": [
             [
              "2017"
             ],
             {
              "frame": {
               "duration": 0,
               "redraw": true
              },
              "fromcurrent": true,
              "mode": "immediate",
              "transition": {
               "duration": 0,
               "easing": "linear"
              }
             }
            ],
            "label": "2017",
            "method": "animate"
           },
           {
            "args": [
             [
              "2018"
             ],
             {
              "frame": {
               "duration": 0,
               "redraw": true
              },
              "fromcurrent": true,
              "mode": "immediate",
              "transition": {
               "duration": 0,
               "easing": "linear"
              }
             }
            ],
            "label": "2018",
            "method": "animate"
           },
           {
            "args": [
             [
              "2019"
             ],
             {
              "frame": {
               "duration": 0,
               "redraw": true
              },
              "fromcurrent": true,
              "mode": "immediate",
              "transition": {
               "duration": 0,
               "easing": "linear"
              }
             }
            ],
            "label": "2019",
            "method": "animate"
           },
           {
            "args": [
             [
              "2020"
             ],
             {
              "frame": {
               "duration": 0,
               "redraw": true
              },
              "fromcurrent": true,
              "mode": "immediate",
              "transition": {
               "duration": 0,
               "easing": "linear"
              }
             }
            ],
            "label": "2020",
            "method": "animate"
           },
           {
            "args": [
             [
              "2021"
             ],
             {
              "frame": {
               "duration": 0,
               "redraw": true
              },
              "fromcurrent": true,
              "mode": "immediate",
              "transition": {
               "duration": 0,
               "easing": "linear"
              }
             }
            ],
            "label": "2021",
            "method": "animate"
           },
           {
            "args": [
             [
              "2022"
             ],
             {
              "frame": {
               "duration": 0,
               "redraw": true
              },
              "fromcurrent": true,
              "mode": "immediate",
              "transition": {
               "duration": 0,
               "easing": "linear"
              }
             }
            ],
            "label": "2022",
            "method": "animate"
           }
          ],
          "x": 0.1,
          "xanchor": "left",
          "y": 0,
          "yanchor": "top"
         }
        ],
        "template": {
         "data": {
          "bar": [
           {
            "error_x": {
             "color": "#2a3f5f"
            },
            "error_y": {
             "color": "#2a3f5f"
            },
            "marker": {
             "line": {
              "color": "#E5ECF6",
              "width": 0.5
             },
             "pattern": {
              "fillmode": "overlay",
              "size": 10,
              "solidity": 0.2
             }
            },
            "type": "bar"
           }
          ],
          "barpolar": [
           {
            "marker": {
             "line": {
              "color": "#E5ECF6",
              "width": 0.5
             },
             "pattern": {
              "fillmode": "overlay",
              "size": 10,
              "solidity": 0.2
             }
            },
            "type": "barpolar"
           }
          ],
          "carpet": [
           {
            "aaxis": {
             "endlinecolor": "#2a3f5f",
             "gridcolor": "white",
             "linecolor": "white",
             "minorgridcolor": "white",
             "startlinecolor": "#2a3f5f"
            },
            "baxis": {
             "endlinecolor": "#2a3f5f",
             "gridcolor": "white",
             "linecolor": "white",
             "minorgridcolor": "white",
             "startlinecolor": "#2a3f5f"
            },
            "type": "carpet"
           }
          ],
          "choropleth": [
           {
            "colorbar": {
             "outlinewidth": 0,
             "ticks": ""
            },
            "type": "choropleth"
           }
          ],
          "contour": [
           {
            "colorbar": {
             "outlinewidth": 0,
             "ticks": ""
            },
            "colorscale": [
             [
              0,
              "#0d0887"
             ],
             [
              0.1111111111111111,
              "#46039f"
             ],
             [
              0.2222222222222222,
              "#7201a8"
             ],
             [
              0.3333333333333333,
              "#9c179e"
             ],
             [
              0.4444444444444444,
              "#bd3786"
             ],
             [
              0.5555555555555556,
              "#d8576b"
             ],
             [
              0.6666666666666666,
              "#ed7953"
             ],
             [
              0.7777777777777778,
              "#fb9f3a"
             ],
             [
              0.8888888888888888,
              "#fdca26"
             ],
             [
              1,
              "#f0f921"
             ]
            ],
            "type": "contour"
           }
          ],
          "contourcarpet": [
           {
            "colorbar": {
             "outlinewidth": 0,
             "ticks": ""
            },
            "type": "contourcarpet"
           }
          ],
          "heatmap": [
           {
            "colorbar": {
             "outlinewidth": 0,
             "ticks": ""
            },
            "colorscale": [
             [
              0,
              "#0d0887"
             ],
             [
              0.1111111111111111,
              "#46039f"
             ],
             [
              0.2222222222222222,
              "#7201a8"
             ],
             [
              0.3333333333333333,
              "#9c179e"
             ],
             [
              0.4444444444444444,
              "#bd3786"
             ],
             [
              0.5555555555555556,
              "#d8576b"
             ],
             [
              0.6666666666666666,
              "#ed7953"
             ],
             [
              0.7777777777777778,
              "#fb9f3a"
             ],
             [
              0.8888888888888888,
              "#fdca26"
             ],
             [
              1,
              "#f0f921"
             ]
            ],
            "type": "heatmap"
           }
          ],
          "heatmapgl": [
           {
            "colorbar": {
             "outlinewidth": 0,
             "ticks": ""
            },
            "colorscale": [
             [
              0,
              "#0d0887"
             ],
             [
              0.1111111111111111,
              "#46039f"
             ],
             [
              0.2222222222222222,
              "#7201a8"
             ],
             [
              0.3333333333333333,
              "#9c179e"
             ],
             [
              0.4444444444444444,
              "#bd3786"
             ],
             [
              0.5555555555555556,
              "#d8576b"
             ],
             [
              0.6666666666666666,
              "#ed7953"
             ],
             [
              0.7777777777777778,
              "#fb9f3a"
             ],
             [
              0.8888888888888888,
              "#fdca26"
             ],
             [
              1,
              "#f0f921"
             ]
            ],
            "type": "heatmapgl"
           }
          ],
          "histogram": [
           {
            "marker": {
             "pattern": {
              "fillmode": "overlay",
              "size": 10,
              "solidity": 0.2
             }
            },
            "type": "histogram"
           }
          ],
          "histogram2d": [
           {
            "colorbar": {
             "outlinewidth": 0,
             "ticks": ""
            },
            "colorscale": [
             [
              0,
              "#0d0887"
             ],
             [
              0.1111111111111111,
              "#46039f"
             ],
             [
              0.2222222222222222,
              "#7201a8"
             ],
             [
              0.3333333333333333,
              "#9c179e"
             ],
             [
              0.4444444444444444,
              "#bd3786"
             ],
             [
              0.5555555555555556,
              "#d8576b"
             ],
             [
              0.6666666666666666,
              "#ed7953"
             ],
             [
              0.7777777777777778,
              "#fb9f3a"
             ],
             [
              0.8888888888888888,
              "#fdca26"
             ],
             [
              1,
              "#f0f921"
             ]
            ],
            "type": "histogram2d"
           }
          ],
          "histogram2dcontour": [
           {
            "colorbar": {
             "outlinewidth": 0,
             "ticks": ""
            },
            "colorscale": [
             [
              0,
              "#0d0887"
             ],
             [
              0.1111111111111111,
              "#46039f"
             ],
             [
              0.2222222222222222,
              "#7201a8"
             ],
             [
              0.3333333333333333,
              "#9c179e"
             ],
             [
              0.4444444444444444,
              "#bd3786"
             ],
             [
              0.5555555555555556,
              "#d8576b"
             ],
             [
              0.6666666666666666,
              "#ed7953"
             ],
             [
              0.7777777777777778,
              "#fb9f3a"
             ],
             [
              0.8888888888888888,
              "#fdca26"
             ],
             [
              1,
              "#f0f921"
             ]
            ],
            "type": "histogram2dcontour"
           }
          ],
          "mesh3d": [
           {
            "colorbar": {
             "outlinewidth": 0,
             "ticks": ""
            },
            "type": "mesh3d"
           }
          ],
          "parcoords": [
           {
            "line": {
             "colorbar": {
              "outlinewidth": 0,
              "ticks": ""
             }
            },
            "type": "parcoords"
           }
          ],
          "pie": [
           {
            "automargin": true,
            "type": "pie"
           }
          ],
          "scatter": [
           {
            "fillpattern": {
             "fillmode": "overlay",
             "size": 10,
             "solidity": 0.2
            },
            "type": "scatter"
           }
          ],
          "scatter3d": [
           {
            "line": {
             "colorbar": {
              "outlinewidth": 0,
              "ticks": ""
             }
            },
            "marker": {
             "colorbar": {
              "outlinewidth": 0,
              "ticks": ""
             }
            },
            "type": "scatter3d"
           }
          ],
          "scattercarpet": [
           {
            "marker": {
             "colorbar": {
              "outlinewidth": 0,
              "ticks": ""
             }
            },
            "type": "scattercarpet"
           }
          ],
          "scattergeo": [
           {
            "marker": {
             "colorbar": {
              "outlinewidth": 0,
              "ticks": ""
             }
            },
            "type": "scattergeo"
           }
          ],
          "scattergl": [
           {
            "marker": {
             "colorbar": {
              "outlinewidth": 0,
              "ticks": ""
             }
            },
            "type": "scattergl"
           }
          ],
          "scattermapbox": [
           {
            "marker": {
             "colorbar": {
              "outlinewidth": 0,
              "ticks": ""
             }
            },
            "type": "scattermapbox"
           }
          ],
          "scatterpolar": [
           {
            "marker": {
             "colorbar": {
              "outlinewidth": 0,
              "ticks": ""
             }
            },
            "type": "scatterpolar"
           }
          ],
          "scatterpolargl": [
           {
            "marker": {
             "colorbar": {
              "outlinewidth": 0,
              "ticks": ""
             }
            },
            "type": "scatterpolargl"
           }
          ],
          "scatterternary": [
           {
            "marker": {
             "colorbar": {
              "outlinewidth": 0,
              "ticks": ""
             }
            },
            "type": "scatterternary"
           }
          ],
          "surface": [
           {
            "colorbar": {
             "outlinewidth": 0,
             "ticks": ""
            },
            "colorscale": [
             [
              0,
              "#0d0887"
             ],
             [
              0.1111111111111111,
              "#46039f"
             ],
             [
              0.2222222222222222,
              "#7201a8"
             ],
             [
              0.3333333333333333,
              "#9c179e"
             ],
             [
              0.4444444444444444,
              "#bd3786"
             ],
             [
              0.5555555555555556,
              "#d8576b"
             ],
             [
              0.6666666666666666,
              "#ed7953"
             ],
             [
              0.7777777777777778,
              "#fb9f3a"
             ],
             [
              0.8888888888888888,
              "#fdca26"
             ],
             [
              1,
              "#f0f921"
             ]
            ],
            "type": "surface"
           }
          ],
          "table": [
           {
            "cells": {
             "fill": {
              "color": "#EBF0F8"
             },
             "line": {
              "color": "white"
             }
            },
            "header": {
             "fill": {
              "color": "#C8D4E3"
             },
             "line": {
              "color": "white"
             }
            },
            "type": "table"
           }
          ]
         },
         "layout": {
          "annotationdefaults": {
           "arrowcolor": "#2a3f5f",
           "arrowhead": 0,
           "arrowwidth": 1
          },
          "autotypenumbers": "strict",
          "coloraxis": {
           "colorbar": {
            "outlinewidth": 0,
            "ticks": ""
           }
          },
          "colorscale": {
           "diverging": [
            [
             0,
             "#8e0152"
            ],
            [
             0.1,
             "#c51b7d"
            ],
            [
             0.2,
             "#de77ae"
            ],
            [
             0.3,
             "#f1b6da"
            ],
            [
             0.4,
             "#fde0ef"
            ],
            [
             0.5,
             "#f7f7f7"
            ],
            [
             0.6,
             "#e6f5d0"
            ],
            [
             0.7,
             "#b8e186"
            ],
            [
             0.8,
             "#7fbc41"
            ],
            [
             0.9,
             "#4d9221"
            ],
            [
             1,
             "#276419"
            ]
           ],
           "sequential": [
            [
             0,
             "#0d0887"
            ],
            [
             0.1111111111111111,
             "#46039f"
            ],
            [
             0.2222222222222222,
             "#7201a8"
            ],
            [
             0.3333333333333333,
             "#9c179e"
            ],
            [
             0.4444444444444444,
             "#bd3786"
            ],
            [
             0.5555555555555556,
             "#d8576b"
            ],
            [
             0.6666666666666666,
             "#ed7953"
            ],
            [
             0.7777777777777778,
             "#fb9f3a"
            ],
            [
             0.8888888888888888,
             "#fdca26"
            ],
            [
             1,
             "#f0f921"
            ]
           ],
           "sequentialminus": [
            [
             0,
             "#0d0887"
            ],
            [
             0.1111111111111111,
             "#46039f"
            ],
            [
             0.2222222222222222,
             "#7201a8"
            ],
            [
             0.3333333333333333,
             "#9c179e"
            ],
            [
             0.4444444444444444,
             "#bd3786"
            ],
            [
             0.5555555555555556,
             "#d8576b"
            ],
            [
             0.6666666666666666,
             "#ed7953"
            ],
            [
             0.7777777777777778,
             "#fb9f3a"
            ],
            [
             0.8888888888888888,
             "#fdca26"
            ],
            [
             1,
             "#f0f921"
            ]
           ]
          },
          "colorway": [
           "#636efa",
           "#EF553B",
           "#00cc96",
           "#ab63fa",
           "#FFA15A",
           "#19d3f3",
           "#FF6692",
           "#B6E880",
           "#FF97FF",
           "#FECB52"
          ],
          "font": {
           "color": "#2a3f5f"
          },
          "geo": {
           "bgcolor": "white",
           "lakecolor": "white",
           "landcolor": "#E5ECF6",
           "showlakes": true,
           "showland": true,
           "subunitcolor": "white"
          },
          "hoverlabel": {
           "align": "left"
          },
          "hovermode": "closest",
          "mapbox": {
           "style": "light"
          },
          "paper_bgcolor": "white",
          "plot_bgcolor": "#E5ECF6",
          "polar": {
           "angularaxis": {
            "gridcolor": "white",
            "linecolor": "white",
            "ticks": ""
           },
           "bgcolor": "#E5ECF6",
           "radialaxis": {
            "gridcolor": "white",
            "linecolor": "white",
            "ticks": ""
           }
          },
          "scene": {
           "xaxis": {
            "backgroundcolor": "#E5ECF6",
            "gridcolor": "white",
            "gridwidth": 2,
            "linecolor": "white",
            "showbackground": true,
            "ticks": "",
            "zerolinecolor": "white"
           },
           "yaxis": {
            "backgroundcolor": "#E5ECF6",
            "gridcolor": "white",
            "gridwidth": 2,
            "linecolor": "white",
            "showbackground": true,
            "ticks": "",
            "zerolinecolor": "white"
           },
           "zaxis": {
            "backgroundcolor": "#E5ECF6",
            "gridcolor": "white",
            "gridwidth": 2,
            "linecolor": "white",
            "showbackground": true,
            "ticks": "",
            "zerolinecolor": "white"
           }
          },
          "shapedefaults": {
           "line": {
            "color": "#2a3f5f"
           }
          },
          "ternary": {
           "aaxis": {
            "gridcolor": "white",
            "linecolor": "white",
            "ticks": ""
           },
           "baxis": {
            "gridcolor": "white",
            "linecolor": "white",
            "ticks": ""
           },
           "bgcolor": "#E5ECF6",
           "caxis": {
            "gridcolor": "white",
            "linecolor": "white",
            "ticks": ""
           }
          },
          "title": {
           "x": 0.05
          },
          "xaxis": {
           "automargin": true,
           "gridcolor": "white",
           "linecolor": "white",
           "ticks": "",
           "title": {
            "standoff": 15
           },
           "zerolinecolor": "white",
           "zerolinewidth": 2
          },
          "yaxis": {
           "automargin": true,
           "gridcolor": "white",
           "linecolor": "white",
           "ticks": "",
           "title": {
            "standoff": 15
           },
           "zerolinecolor": "white",
           "zerolinewidth": 2
          }
         }
        },
        "updatemenus": [
         {
          "buttons": [
           {
            "args": [
             null,
             {
              "frame": {
               "duration": 500,
               "redraw": true
              },
              "fromcurrent": true,
              "mode": "immediate",
              "transition": {
               "duration": 500,
               "easing": "linear"
              }
             }
            ],
            "label": "&#9654;",
            "method": "animate"
           },
           {
            "args": [
             [
              null
             ],
             {
              "frame": {
               "duration": 0,
               "redraw": true
              },
              "fromcurrent": true,
              "mode": "immediate",
              "transition": {
               "duration": 0,
               "easing": "linear"
              }
             }
            ],
            "label": "&#9724;",
            "method": "animate"
           }
          ],
          "direction": "left",
          "pad": {
           "r": 10,
           "t": 70
          },
          "showactive": false,
          "type": "buttons",
          "x": 0.1,
          "xanchor": "right",
          "y": 0,
          "yanchor": "top"
         }
        ],
        "width": 1500
       }
      }
     },
     "metadata": {},
     "output_type": "display_data"
    }
   ],
   "source": [
    "import pycountry\n",
    "import plotly.express as px\n",
    "import plotly.colors as colors\n",
    "import pandas as pd\n",
    "# ----------- Step 1 ------------\n",
    "df1 = pd.read_csv(\"../3) Data/main_df_no_NAN_99p.csv\"\n",
    "                  ).groupby([\"Country of Headquarters\", \"Year\"]\n",
    "                            ).mean().reset_index().sort_values(by=\"Year\")\n",
    "#df1 = pd.read_csv(URL_DATASET)\n",
    "# print(df1.head) # Uncomment to see what the dataframe is like\n",
    "# ----------- Step 2 ------------\n",
    "list_countries = df1['Country of Headquarters'].unique().tolist()\n",
    "# print(list_countries) # Uncomment to see list of countries\n",
    "d_country_code = {}  # To hold the country names and their ISO\n",
    "for country in list_countries:\n",
    "    try:\n",
    "        country_data = pycountry.countries.search_fuzzy(country)\n",
    "        # country_data is a list of objects of class pycountry.db.Country\n",
    "        # The first item  ie at index 0 of list is best fit\n",
    "        # object of class Country have an alpha_3 attribute\n",
    "        country_code = country_data[0].alpha_3\n",
    "        d_country_code.update({country: country_code})\n",
    "    except:\n",
    "        print('could not add ISO 3 code for ->', country)\n",
    "        # If could not find country, make ISO code ' '\n",
    "        d_country_code.update({country: ' '})\n",
    "\n",
    "# print(d_country_code) # Uncomment to check dictionary  \n",
    "\n",
    "# create a new column iso_alpha in the df\n",
    "# and fill it with appropriate iso 3 code\n",
    "for k, v in d_country_code.items():\n",
    "    df1.loc[(df1[\"Country of Headquarters\"] == k), 'iso_alpha'] = v\n",
    "\n",
    "# print(df1.head)  # Uncomment to confirm that ISO codes added\n",
    "# ----------- Step 3 ------------\n",
    "\n",
    "fig = px.choropleth(data_frame=df1,\n",
    "                    locations=\"iso_alpha\",\n",
    "                    color=\"ESG Score\",\n",
    "                    hover_name=\"Country of Headquarters\",\n",
    "                    color_continuous_scale=colors.diverging.RdYlGn,\n",
    "                    range_color=[0, 100],  # set the minimum and maximum values for the color scale\n",
    "                    animation_frame=\"Year\",\n",
    "                    width=1500, height=900)\n",
    "\n",
    "fig.show()"
   ]
  }
 ],
 "metadata": {
  "kernelspec": {
   "display_name": "FS_Base",
   "language": "python",
   "name": "python3"
  },
  "language_info": {
   "codemirror_mode": {
    "name": "ipython",
    "version": 3
   },
   "file_extension": ".py",
   "mimetype": "text/x-python",
   "name": "python",
   "nbconvert_exporter": "python",
   "pygments_lexer": "ipython3",
   "version": "3.10.4"
  },
  "orig_nbformat": 4
 },
 "nbformat": 4,
 "nbformat_minor": 2
}
