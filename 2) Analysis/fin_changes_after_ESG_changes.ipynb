{
 "cells": [
  {
   "cell_type": "code",
   "execution_count": 87,
   "metadata": {},
   "outputs": [],
   "source": [
    "import pandas as pd\n",
    "import itertools\n",
    "from sklearn.preprocessing import StandardScaler\n",
    "from sklearn.ensemble import RandomForestRegressor\n",
    "from sklearn.model_selection import train_test_split\n",
    "from sklearn.metrics import mean_squared_error, r2_score"
   ]
  },
  {
   "cell_type": "code",
   "execution_count": 88,
   "metadata": {},
   "outputs": [],
   "source": [
    "df = pd.read_csv(\"../3) Data/main_df_no_NAN_99p.csv\").drop(columns=\"Unnamed: 0\")\n",
    "\n",
    "df_change = pd.read_csv(\"../3) Data/main_df_no_NAN_99p_YoY.csv\").drop(columns=\"Unnamed: 0\")"
   ]
  },
  {
   "cell_type": "code",
   "execution_count": 89,
   "metadata": {},
   "outputs": [],
   "source": [
    "# Identfying ESG changes in companies and years\n",
    "# How much are changes more than 10%\n",
    "# Looking at just ESG Score changes\n",
    "\n",
    "# A standardized df is needed, where each ISIN has \n",
    "# the same number of years next to it\n",
    "years = list(range(2000, 2023))\n",
    "isin = df['ISIN'].unique()\n",
    "combinations = list(itertools.product(isin, years))\n",
    "df_combinations = pd.DataFrame(combinations, columns=['ISIN', 'Year'])\n",
    "\n",
    "df_ESGS_YoY = pd.merge(df_combinations, df, on=['ISIN', 'Year'], how='left'\n",
    "                    ).reset_index().drop(columns=\"index\")\n",
    "\n",
    "# Calculating one-period differences: (Xt/Xt-1) - 1\n",
    "df_ESGS_YoY['ESG Score YoY Change'] = (df_ESGS_YoY[\"ESG Score\"] / df_ESGS_YoY[\"ESG Score\"].shift(1)) - 1\n",
    "\n",
    "# Including one-period lag for y variable\n",
    "df_ESGS_YoY[\"Total Return+1\"] = df_ESGS_YoY[\"Total Return\"].shift(-2)\n",
    "\n",
    "# Dropping the first year of every company, because it is compared to the last\n",
    "# ESG Score of the previous company, not the previous year and already calculated returns\n",
    "df_ESG_YoY = df_ESGS_YoY[df_ESGS_YoY[\"Year\"].isin([2000, 2021, 2022]) == False]\n",
    "\n",
    "# Deleting NAN values\n",
    "df_ESG_YoY_cleaned = df_ESG_YoY.dropna()"
   ]
  },
  {
   "cell_type": "code",
   "execution_count": 92,
   "metadata": {},
   "outputs": [
    {
     "name": "stderr",
     "output_type": "stream",
     "text": [
      "C:\\Users\\nmart\\AppData\\Local\\Temp\\ipykernel_18896\\2201373936.py:8: SettingWithCopyWarning: \n",
      "A value is trying to be set on a copy of a slice from a DataFrame.\n",
      "Try using .loc[row_indexer,col_indexer] = value instead\n",
      "\n",
      "See the caveats in the documentation: https://pandas.pydata.org/pandas-docs/stable/user_guide/indexing.html#returning-a-view-versus-a-copy\n",
      "  df_ESG_YoY_cleaned[float_cols] = scaler.fit_transform(df_ESG_YoY_cleaned[float_cols])\n"
     ]
    }
   ],
   "source": [
    "# Select only the float columns in the dataframe\n",
    "float_cols = df_ESG_YoY_cleaned.select_dtypes(include=['float64']).columns\n",
    "\n",
    "# Instantiate the StandardScaler object\n",
    "scaler = StandardScaler()\n",
    "\n",
    "# Fit and transform the float columns in the dataframe\n",
    "df_ESG_YoY_cleaned[float_cols] = scaler.fit_transform(df_ESG_YoY_cleaned[float_cols])\n"
   ]
  },
  {
   "cell_type": "code",
   "execution_count": 93,
   "metadata": {},
   "outputs": [],
   "source": [
    "def CustomRegression_upper(df, size_list, condition_list):\n",
    "\n",
    "    # load dataframe with all data\n",
    "    current_df = df    \n",
    "    #dictionary of results corresponding to each condition\n",
    "    perCondition = {}\n",
    "\n",
    "    #takes each condition and \n",
    "    for condition in condition_list:\n",
    "        #create dataframe to house results\n",
    "        results = pd.DataFrame({'number': size_list, 'mse': [0]*len(size_list), 'r2': [0]*len(size_list)})\n",
    "        for idx in range (len(size_list)):\n",
    "            results['number'][idx] = size_list[idx]\n",
    "            top_n_df = current_df.nlargest(size_list[idx], condition)\n",
    "            top_n_df_reg = top_n_df[[\"Total Return+1\",\n",
    "                                 \"ESG Score\",\n",
    "                                 \"ESG Combined Score\",\n",
    "                                 \"ESG Controversies Score\",\n",
    "                                 \"Social Pillar Score\",\n",
    "                                 \"Governance Pillar Score\",\n",
    "                                 \"Environmental Pillar Score\",\n",
    "                                 \"ESG Score YoY Change\"]]\n",
    "            X = top_n_df_reg.drop('Total Return+1',axis =1)\n",
    "            y = top_n_df_reg['Total Return+1']\n",
    "            X_train, X_test, y_train, y_test = train_test_split(X, y, test_size = 0.20, random_state = 101)\n",
    "            regr = RandomForestRegressor(n_estimators = 10, max_depth = 10, random_state = 101)\n",
    "            regr.fit(X_train, y_train.values.ravel())\n",
    "            predictions = regr.predict(X_test)\n",
    "            # Mean squared error (MSE)\n",
    "            results['mse'][idx] = mean_squared_error(y_test.values.ravel(), predictions)\n",
    "            # R-squared scores\n",
    "            results['r2'][idx] = r2_score(y_test.values.ravel(), predictions)\n",
    "\n",
    "        perCondition[condition] = results\n",
    "    \n",
    "    return perCondition"
   ]
  },
  {
   "cell_type": "code",
   "execution_count": 94,
   "metadata": {},
   "outputs": [
    {
     "name": "stderr",
     "output_type": "stream",
     "text": [
      "C:\\Users\\nmart\\AppData\\Local\\Temp\\ipykernel_18896\\1790202686.py:32: SettingWithCopyWarning: \n",
      "A value is trying to be set on a copy of a slice from a DataFrame\n",
      "\n",
      "See the caveats in the documentation: https://pandas.pydata.org/pandas-docs/stable/user_guide/indexing.html#returning-a-view-versus-a-copy\n",
      "  results['r2'][idx] = r2_score(y_test.values.ravel(), predictions)\n",
      "C:\\Users\\nmart\\AppData\\Local\\Temp\\ipykernel_18896\\1790202686.py:13: SettingWithCopyWarning: \n",
      "A value is trying to be set on a copy of a slice from a DataFrame\n",
      "\n",
      "See the caveats in the documentation: https://pandas.pydata.org/pandas-docs/stable/user_guide/indexing.html#returning-a-view-versus-a-copy\n",
      "  results['number'][idx] = size_list[idx]\n",
      "C:\\Users\\nmart\\AppData\\Local\\Temp\\ipykernel_18896\\1790202686.py:13: SettingWithCopyWarning: \n",
      "A value is trying to be set on a copy of a slice from a DataFrame\n",
      "\n",
      "See the caveats in the documentation: https://pandas.pydata.org/pandas-docs/stable/user_guide/indexing.html#returning-a-view-versus-a-copy\n",
      "  results['number'][idx] = size_list[idx]\n",
      "C:\\Users\\nmart\\AppData\\Local\\Temp\\ipykernel_18896\\1790202686.py:13: SettingWithCopyWarning: \n",
      "A value is trying to be set on a copy of a slice from a DataFrame\n",
      "\n",
      "See the caveats in the documentation: https://pandas.pydata.org/pandas-docs/stable/user_guide/indexing.html#returning-a-view-versus-a-copy\n",
      "  results['number'][idx] = size_list[idx]\n",
      "C:\\Users\\nmart\\AppData\\Local\\Temp\\ipykernel_18896\\1790202686.py:13: SettingWithCopyWarning: \n",
      "A value is trying to be set on a copy of a slice from a DataFrame\n",
      "\n",
      "See the caveats in the documentation: https://pandas.pydata.org/pandas-docs/stable/user_guide/indexing.html#returning-a-view-versus-a-copy\n",
      "  results['number'][idx] = size_list[idx]\n",
      "C:\\Users\\nmart\\AppData\\Local\\Temp\\ipykernel_18896\\1790202686.py:13: SettingWithCopyWarning: \n",
      "A value is trying to be set on a copy of a slice from a DataFrame\n",
      "\n",
      "See the caveats in the documentation: https://pandas.pydata.org/pandas-docs/stable/user_guide/indexing.html#returning-a-view-versus-a-copy\n",
      "  results['number'][idx] = size_list[idx]\n",
      "C:\\Users\\nmart\\AppData\\Local\\Temp\\ipykernel_18896\\1790202686.py:13: SettingWithCopyWarning: \n",
      "A value is trying to be set on a copy of a slice from a DataFrame\n",
      "\n",
      "See the caveats in the documentation: https://pandas.pydata.org/pandas-docs/stable/user_guide/indexing.html#returning-a-view-versus-a-copy\n",
      "  results['number'][idx] = size_list[idx]\n",
      "C:\\Users\\nmart\\AppData\\Local\\Temp\\ipykernel_18896\\1790202686.py:32: SettingWithCopyWarning: \n",
      "A value is trying to be set on a copy of a slice from a DataFrame\n",
      "\n",
      "See the caveats in the documentation: https://pandas.pydata.org/pandas-docs/stable/user_guide/indexing.html#returning-a-view-versus-a-copy\n",
      "  results['r2'][idx] = r2_score(y_test.values.ravel(), predictions)\n",
      "C:\\Users\\nmart\\AppData\\Local\\Temp\\ipykernel_18896\\1790202686.py:13: SettingWithCopyWarning: \n",
      "A value is trying to be set on a copy of a slice from a DataFrame\n",
      "\n",
      "See the caveats in the documentation: https://pandas.pydata.org/pandas-docs/stable/user_guide/indexing.html#returning-a-view-versus-a-copy\n",
      "  results['number'][idx] = size_list[idx]\n",
      "C:\\Users\\nmart\\AppData\\Local\\Temp\\ipykernel_18896\\1790202686.py:13: SettingWithCopyWarning: \n",
      "A value is trying to be set on a copy of a slice from a DataFrame\n",
      "\n",
      "See the caveats in the documentation: https://pandas.pydata.org/pandas-docs/stable/user_guide/indexing.html#returning-a-view-versus-a-copy\n",
      "  results['number'][idx] = size_list[idx]\n",
      "C:\\Users\\nmart\\AppData\\Local\\Temp\\ipykernel_18896\\1790202686.py:13: SettingWithCopyWarning: \n",
      "A value is trying to be set on a copy of a slice from a DataFrame\n",
      "\n",
      "See the caveats in the documentation: https://pandas.pydata.org/pandas-docs/stable/user_guide/indexing.html#returning-a-view-versus-a-copy\n",
      "  results['number'][idx] = size_list[idx]\n",
      "C:\\Users\\nmart\\AppData\\Local\\Temp\\ipykernel_18896\\1790202686.py:13: SettingWithCopyWarning: \n",
      "A value is trying to be set on a copy of a slice from a DataFrame\n",
      "\n",
      "See the caveats in the documentation: https://pandas.pydata.org/pandas-docs/stable/user_guide/indexing.html#returning-a-view-versus-a-copy\n",
      "  results['number'][idx] = size_list[idx]\n",
      "C:\\Users\\nmart\\AppData\\Local\\Temp\\ipykernel_18896\\1790202686.py:13: SettingWithCopyWarning: \n",
      "A value is trying to be set on a copy of a slice from a DataFrame\n",
      "\n",
      "See the caveats in the documentation: https://pandas.pydata.org/pandas-docs/stable/user_guide/indexing.html#returning-a-view-versus-a-copy\n",
      "  results['number'][idx] = size_list[idx]\n",
      "C:\\Users\\nmart\\AppData\\Local\\Temp\\ipykernel_18896\\1790202686.py:13: SettingWithCopyWarning: \n",
      "A value is trying to be set on a copy of a slice from a DataFrame\n",
      "\n",
      "See the caveats in the documentation: https://pandas.pydata.org/pandas-docs/stable/user_guide/indexing.html#returning-a-view-versus-a-copy\n",
      "  results['number'][idx] = size_list[idx]\n"
     ]
    },
    {
     "data": {
      "text/plain": [
       "{'Company Market Cap':    number       mse        r2\n",
       " 0     100  1.719673  0.112594\n",
       " 1    1000  0.889970 -0.131357\n",
       " 2    5000  0.792850 -0.039866\n",
       " 3   10000  0.858472 -0.040123\n",
       " 4   15000  0.861715 -0.015365\n",
       " 5   20000  0.863767 -0.020339\n",
       " 6   29457  1.037300 -0.010816,\n",
       " 'ESG Score YoY Change':    number       mse        r2\n",
       " 0     100  1.632991 -0.638773\n",
       " 1    1000  1.389302 -0.225535\n",
       " 2    5000  1.236417 -0.054755\n",
       " 3   10000  1.118262 -0.030548\n",
       " 4   15000  1.058257 -0.018185\n",
       " 5   20000  0.973131 -0.022055\n",
       " 6   29457  1.033568 -0.021810}"
      ]
     },
     "execution_count": 94,
     "metadata": {},
     "output_type": "execute_result"
    }
   ],
   "source": [
    "n = [100, 1000, 5000, 10000, 15000, 20000, len(df_ESG_YoY_cleaned[\"ISIN\"])]\n",
    "conditioning_feature = ['Company Market Cap', \"ESG Score YoY Change\"]\n",
    "\n",
    "results_ = CustomRegression_upper(df_ESG_YoY_cleaned, n, conditioning_feature)\n",
    "results_"
   ]
  }
 ],
 "metadata": {
  "kernelspec": {
   "display_name": "FS_Base",
   "language": "python",
   "name": "python3"
  },
  "language_info": {
   "codemirror_mode": {
    "name": "ipython",
    "version": 3
   },
   "file_extension": ".py",
   "mimetype": "text/x-python",
   "name": "python",
   "nbconvert_exporter": "python",
   "pygments_lexer": "ipython3",
   "version": "3.10.4"
  },
  "orig_nbformat": 4
 },
 "nbformat": 4,
 "nbformat_minor": 2
}
