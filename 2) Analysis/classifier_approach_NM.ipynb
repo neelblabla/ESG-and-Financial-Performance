{
 "cells": [
  {
   "cell_type": "code",
   "execution_count": 1,
   "metadata": {},
   "outputs": [],
   "source": [
    "import pandas as pd\n",
    "import Common_Functions as cmn\n",
    "from sklearn.ensemble import RandomForestClassifier\n",
    "from sklearn.model_selection import train_test_split\n",
    "from sklearn.metrics import accuracy_score"
   ]
  },
  {
   "cell_type": "code",
   "execution_count": 112,
   "metadata": {},
   "outputs": [
    {
     "name": "stdout",
     "output_type": "stream",
     "text": [
      "(41430, 30)\n",
      "['ISIN', 'Year', 'Total Return', 'ESG Score', 'ESG Combined Score', 'ESG Controversies Score', 'Social Pillar Score', 'Governance Pillar Score', 'Environmental Pillar Score', 'Revenue - Mean', 'Earnings Per Share - Mean', 'Return On Equity - Mean', 'Volume', 'Company Market Cap', 'EBITDA - Mean', 'Country of Headquarters', 'Region of Headquarters', 'TRBC Industry Name', 'TRBC Industry Group Name', 'TRBC Business Sector Name', 'TRBC Economic Sector Name', 'ESG Score YoY change', 'ESG Combined Score YoY change', 'ESG Controversies Score YoY change', 'Social Pillar Score YoY change', 'Governance Pillar Score YoY change', 'Revenue - Mean YoY change', 'Earnings Per Share - Mean YoY change', 'Company Market Cap YoY change', 'EBITDA - Mean YoY change']\n"
     ]
    }
   ],
   "source": [
    "\n",
    "df_change = pd.read_csv(cmn.PATH_df_no_NAN_99p_YoY).drop(columns=\"Unnamed: 0\")\n",
    "#df_change = df_change.drop('Volume YoY change',axis =1)\n",
    "print(df_change.shape)\n",
    "print(df_change.columns.tolist())"
   ]
  },
  {
   "cell_type": "code",
   "execution_count": 113,
   "metadata": {},
   "outputs": [],
   "source": [
    "def prediction_int(df, feature):\n",
    "    pred = ((df[feature] > 0).astype(int))\n",
    "    return pred.astype(int)"
   ]
  },
  {
   "cell_type": "code",
   "execution_count": 114,
   "metadata": {},
   "outputs": [
    {
     "name": "stdout",
     "output_type": "stream",
     "text": [
      "['Total Return', 'Return On Equity - Mean', 'ESG Score YoY change', 'ESG Combined Score YoY change', 'ESG Controversies Score YoY change', 'Social Pillar Score YoY change', 'Governance Pillar Score YoY change', 'Revenue - Mean YoY change', 'Earnings Per Share - Mean YoY change', 'Company Market Cap YoY change', 'EBITDA - Mean YoY change']\n"
     ]
    }
   ],
   "source": [
    "\n",
    "feature_cols = df_change.filter(regex='Return|YoY').columns.tolist()\n",
    "print(feature_cols)"
   ]
  },
  {
   "cell_type": "code",
   "execution_count": 115,
   "metadata": {},
   "outputs": [
    {
     "data": {
      "text/plain": [
       "(41430, 41)"
      ]
     },
     "execution_count": 115,
     "metadata": {},
     "output_type": "execute_result"
    }
   ],
   "source": [
    "df_change_with_classifier = df_change.copy()\n",
    "for feature in feature_cols:\n",
    "    df_change_with_classifier[f\"{feature} Classified\"] = prediction_int(df_change, feature)\n",
    "    \n",
    "df_change_with_classifier.shape"
   ]
  },
  {
   "cell_type": "code",
   "execution_count": 123,
   "metadata": {},
   "outputs": [],
   "source": [
    "ESG_List = ['ESG Score',\n",
    "            'ESG Combined Score',\n",
    "            'ESG Controversies Score',\n",
    "            'Social Pillar Score',\n",
    "            'Governance Pillar Score',\n",
    "            'ESG Score YoY change',\n",
    "            'ESG Combined Score YoY change',\n",
    "            'ESG Controversies Score YoY change',\n",
    "            'Social Pillar Score YoY change',\n",
    "            'Governance Pillar Score YoY change']\n",
    "\n",
    "Financials_List = [ 'Total Return Classified', \n",
    "                    'Return On Equity - Mean Classified',                    \n",
    "                    'Revenue - Mean YoY change Classified',\n",
    "                    'Earnings Per Share - Mean YoY change Classified',\n",
    "                    'Company Market Cap YoY change Classified',\n",
    "                    'EBITDA - Mean YoY change Classified']"
   ]
  },
  {
   "cell_type": "code",
   "execution_count": 129,
   "metadata": {},
   "outputs": [],
   "source": [
    "def CustomClassifier(X, y_list):\n",
    "   result = {}\n",
    "   for y in y_list:\n",
    "      \n",
    "      X_train, X_test, y_train, y_test = train_test_split(X, y_list[y], test_size = 0.20, random_state = 101)\n",
    "      rfc = RandomForestClassifier(n_estimators=100, random_state=42)\n",
    "\n",
    "      # fit random forest classifier to training data\n",
    "      rfc.fit(X_train, y_train)\n",
    "\n",
    "      # make predictions on test data\n",
    "      y_pred = rfc.predict(X_test)\n",
    "\n",
    "      # calculate accuracy of predictions\n",
    "      result[y] = accuracy_score(y_test, y_pred)\n",
    "\n",
    "   return result   \n"
   ]
  },
  {
   "cell_type": "code",
   "execution_count": 130,
   "metadata": {},
   "outputs": [
    {
     "name": "stdout",
     "output_type": "stream",
     "text": [
      "{'Total Return Classified': 0.5966690803765388, 'Return On Equity - Mean Classified': 0.929640357229061, 'Revenue - Mean YoY change Classified': 0.6932174752594739, 'Earnings Per Share - Mean YoY change Classified': 0.5696355298093169, 'Company Market Cap YoY change Classified': 0.5627564566739078, 'EBITDA - Mean YoY change Classified': 0.6466328747284577}\n"
     ]
    }
   ],
   "source": [
    "X = df_change_with_classifier[ESG_List]\n",
    "y_list = df_change_with_classifier[Financials_List]\n",
    "\n",
    "results = CustomClassifier(X, y_list)\n",
    "print(results)"
   ]
  },
  {
   "cell_type": "code",
   "execution_count": null,
   "metadata": {},
   "outputs": [],
   "source": []
  }
 ],
 "metadata": {
  "kernelspec": {
   "display_name": "Python 3.10.10 64-bit (microsoft store)",
   "language": "python",
   "name": "python3"
  },
  "language_info": {
   "codemirror_mode": {
    "name": "ipython",
    "version": 3
   },
   "file_extension": ".py",
   "mimetype": "text/x-python",
   "name": "python",
   "nbconvert_exporter": "python",
   "pygments_lexer": "ipython3",
   "version": "3.10.4"
  },
  "orig_nbformat": 4,
  "vscode": {
   "interpreter": {
    "hash": "065007eae7dd0a2896a609a05153f4512d86ae68b4eb554ab641fe5278c828ee"
   }
  }
 },
 "nbformat": 4,
 "nbformat_minor": 2
}
