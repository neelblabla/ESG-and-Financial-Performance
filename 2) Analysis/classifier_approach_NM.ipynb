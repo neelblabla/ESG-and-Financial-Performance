{
 "cells": [
  {
   "cell_type": "code",
   "execution_count": 10,
   "metadata": {},
   "outputs": [],
   "source": [
    "# Import necessary libraries\n",
    "import pandas as pd\n",
    "import Common_Functions as cmn\n",
    "from sklearn.ensemble import RandomForestClassifier\n",
    "from sklearn.model_selection import train_test_split\n",
    "from sklearn.metrics import accuracy_score, precision_score, recall_score, f1_score, confusion_matrix"
   ]
  },
  {
   "cell_type": "code",
   "execution_count": 11,
   "metadata": {},
   "outputs": [],
   "source": [
    "# Load the dataset conating YoY changes in the variables\n",
    "df_change = pd.read_csv(cmn.PATH_df_no_NAN_99p_YoY).drop(columns=\"Unnamed: 0\")"
   ]
  },
  {
   "cell_type": "code",
   "execution_count": 12,
   "metadata": {},
   "outputs": [],
   "source": [
    "# Function to binary classify rising and falling metrics\n",
    "def prediction_int(df, feature):\n",
    "    pred = ((df[feature] > 0).astype(int))\n",
    "    return pred.astype(int)"
   ]
  },
  {
   "cell_type": "code",
   "execution_count": 13,
   "metadata": {},
   "outputs": [],
   "source": [
    "# Selecting all YoY-change columns\n",
    "feature_cols = df_change.filter(regex='Return|YoY').columns.tolist()\n",
    "\n",
    "# Creating a copy of the imported dataframe, to store the binary values\n",
    "df_change_binary = df_change.copy()\n",
    "\n",
    "# Calling the function to perform binary classification on YoY columns\n",
    "for feature in feature_cols:\n",
    "    df_change_binary[f\"{feature} Classified\"] = prediction_int(df_change, feature)"
   ]
  },
  {
   "cell_type": "code",
   "execution_count": 18,
   "metadata": {},
   "outputs": [
    {
     "data": {
      "text/plain": [
       "['ISIN',\n",
       " 'Year',\n",
       " 'Total Return',\n",
       " 'ESG Score',\n",
       " 'ESG Combined Score',\n",
       " 'ESG Controversies Score',\n",
       " 'Social Pillar Score',\n",
       " 'Governance Pillar Score',\n",
       " 'Environmental Pillar Score',\n",
       " 'Revenue - Mean',\n",
       " 'Earnings Per Share - Mean',\n",
       " 'Return On Equity - Mean',\n",
       " 'Volume',\n",
       " 'Company Market Cap',\n",
       " 'EBITDA - Mean',\n",
       " 'Country of Headquarters',\n",
       " 'Region of Headquarters',\n",
       " 'TRBC Industry Name',\n",
       " 'TRBC Industry Group Name',\n",
       " 'TRBC Business Sector Name',\n",
       " 'TRBC Economic Sector Name',\n",
       " 'ESG Score YoY change',\n",
       " 'ESG Combined Score YoY change',\n",
       " 'ESG Controversies Score YoY change',\n",
       " 'Social Pillar Score YoY change',\n",
       " 'Governance Pillar Score YoY change',\n",
       " 'Revenue - Mean YoY change',\n",
       " 'Earnings Per Share - Mean YoY change',\n",
       " 'Company Market Cap YoY change',\n",
       " 'EBITDA - Mean YoY change',\n",
       " 'Total Return Classified',\n",
       " 'Return On Equity - Mean Classified',\n",
       " 'ESG Score YoY change Classified',\n",
       " 'ESG Combined Score YoY change Classified',\n",
       " 'ESG Controversies Score YoY change Classified',\n",
       " 'Social Pillar Score YoY change Classified',\n",
       " 'Governance Pillar Score YoY change Classified',\n",
       " 'Revenue - Mean YoY change Classified',\n",
       " 'Earnings Per Share - Mean YoY change Classified',\n",
       " 'Company Market Cap YoY change Classified',\n",
       " 'EBITDA - Mean YoY change Classified']"
      ]
     },
     "execution_count": 18,
     "metadata": {},
     "output_type": "execute_result"
    }
   ],
   "source": [
    "df_change_binary.columns.tolist()"
   ]
  },
  {
   "cell_type": "code",
   "execution_count": 14,
   "metadata": {},
   "outputs": [],
   "source": [
    "# Defining the features X\n",
    "ESG_List = ['ESG Score',\n",
    "            'ESG Combined Score',\n",
    "            'ESG Controversies Score',\n",
    "            'Social Pillar Score',\n",
    "            'Governance Pillar Score',\n",
    "            'ESG Score YoY change',\n",
    "            'ESG Combined Score YoY change',\n",
    "            'ESG Controversies Score YoY change',\n",
    "            'Social Pillar Score YoY change',\n",
    "            'Governance Pillar Score YoY change']\n",
    "\n",
    "# Defining the targets y\n",
    "Financials_List = [ 'Total Return Classified', \n",
    "                    'Return On Equity - Mean Classified',                    \n",
    "                    'Revenue - Mean YoY change Classified',\n",
    "                    'Earnings Per Share - Mean YoY change Classified',\n",
    "                    'Company Market Cap YoY change Classified',\n",
    "                    'EBITDA - Mean YoY change Classified']"
   ]
  },
  {
   "cell_type": "code",
   "execution_count": 21,
   "metadata": {},
   "outputs": [],
   "source": [
    "# Function to run RandomForest on the new binary dataframe\n",
    "def CustomClassifier(X, y_list):\n",
    "   all_results = {}\n",
    "   for y in y_list:\n",
    "      result = {}      \n",
    "      # Splitting training and testing data and introducing the RandomForest Classifier\n",
    "      X_train, X_test, y_train, y_test = train_test_split(X, y_list[y], test_size = 0.20)\n",
    "      rfc = RandomForestClassifier(n_estimators=100)\n",
    "\n",
    "      # fit random forest classifier to training data\n",
    "      rfc.fit(X_train, y_train)\n",
    "\n",
    "      # make predictions on test data\n",
    "      y_pred = rfc.predict(X_test)\n",
    "\n",
    "      # calculate different metrics to assess the quality of the predictions\n",
    "      result['Precision'] = precision_score(y_pred=y_pred, y_true=y_test)\n",
    "      result['Recall'] = recall_score(y_pred=y_pred, y_true=y_test)\n",
    "      result['F1'] = f1_score(y_pred=y_pred, y_true=y_test)\n",
    "      result['Accuracy'] = accuracy_score(y_test, y_pred)\n",
    "      result['Confusion'] = confusion_matrix(y_pred=y_pred, y_true=y_test)\n",
    "      all_results[y] = result\n",
    "\n",
    "   return all_results"
   ]
  },
  {
   "cell_type": "code",
   "execution_count": 24,
   "metadata": {},
   "outputs": [
    {
     "name": "stdout",
     "output_type": "stream",
     "text": [
      "Total Return Classified\n",
      "    Precision    : 0.63\n",
      "    Recall       : 0.87\n",
      "    F1           : 0.73\n",
      "    Accuracy     : 0.60\n",
      "    Confusion    :\n",
      "                  [[ 431 2677]\n",
      " [ 665 4513]]\n",
      "Return On Equity - Mean Classified\n",
      "    Precision    : 0.93\n",
      "    Recall       : 1.00\n",
      "    F1           : 0.96\n",
      "    Accuracy     : 0.93\n",
      "    Confusion    :\n",
      "                  [[   3  580]\n",
      " [   3 7700]]\n",
      "Revenue - Mean YoY change Classified\n",
      "    Precision    : 0.71\n",
      "    Recall       : 0.96\n",
      "    F1           : 0.82\n",
      "    Accuracy     : 0.69\n",
      "    Confusion    :\n",
      "                  [[ 117 2337]\n",
      " [ 205 5627]]\n",
      "Earnings Per Share - Mean YoY change Classified\n",
      "    Precision    : 0.60\n",
      "    Recall       : 0.84\n",
      "    F1           : 0.70\n",
      "    Accuracy     : 0.57\n",
      "    Confusion    :\n",
      "                  [[ 510 2787]\n",
      " [ 779 4210]]\n",
      "Company Market Cap YoY change Classified\n",
      "    Precision    : 0.60\n",
      "    Recall       : 0.81\n",
      "    F1           : 0.69\n",
      "    Accuracy     : 0.56\n",
      "    Confusion    :\n",
      "                  [[ 693 2668]\n",
      " [ 955 3970]]\n",
      "EBITDA - Mean YoY change Classified\n",
      "    Precision    : 0.67\n",
      "    Recall       : 0.93\n",
      "    F1           : 0.78\n",
      "    Accuracy     : 0.65\n",
      "    Confusion    :\n",
      "                  [[ 218 2546]\n",
      " [ 382 5140]]\n"
     ]
    }
   ],
   "source": [
    "X = df_change_binary[ESG_List]\n",
    "y_list = df_change_binary[Financials_List]\n",
    "\n",
    "results = CustomClassifier(X, y_list)\n",
    "\n",
    "for y in y_list:\n",
    "    print(f'{y}')\n",
    "    print('    Precision    : {0:1.5f}'.format(results[y]['Precision']))\n",
    "    print('    Recall       : {0:1.5f}'.format(results[y]['Recall']))\n",
    "    print('    F1           : {0:1.5f}'.format(results[y]['F1']))\n",
    "    print('    Accuracy     : {0:1.5f}'.format(results[y]['Accuracy']))\n",
    "    print('    Confusion    :')\n",
    "    print(f\"                  {results[y]['Confusion']}\")"
   ]
  },
  {
   "cell_type": "code",
   "execution_count": null,
   "metadata": {},
   "outputs": [],
   "source": [
    "Financials_List_To_Test = [ #'Total Return Classified', \n",
    "                    'Return On Equity - Mean Classified']                    \n",
    "                    #'Revenue - Mean YoY change Classified',\n",
    "                    #'Earnings Per Share - Mean YoY change Classified',\n",
    "                    #'Company Market Cap YoY change Classified',\n",
    "                    #'EBITDA - Mean YoY change Classified']\n",
    "X = df_change_binary[ESG_List]\n",
    "y_list = df_change_binary[Financials_List_To_Test]\n",
    "\n",
    "results = CustomClassifier(X, y_list)\n",
    "\n",
    "for y in y_list:\n",
    "    print(f'{y}')\n",
    "    print('    Precision    : {0:1.5f}'.format(results[y]['Precision']))\n",
    "    print('    Recall       : {0:1.5f}'.format(results[y]['Recall']))\n",
    "    print('    F1           : {0:1.5f}'.format(results[y]['F1']))\n",
    "    print('    Accuracy     : {0:1.5f}'.format(results[y]['Accuracy']))\n",
    "    print('    Confusion    :')\n",
    "    print(f\"                  {results[y]['Confusion']}\")"
   ]
  }
 ],
 "metadata": {
  "kernelspec": {
   "display_name": "Python 3.10.10 64-bit (microsoft store)",
   "language": "python",
   "name": "python3"
  },
  "language_info": {
   "codemirror_mode": {
    "name": "ipython",
    "version": 3
   },
   "file_extension": ".py",
   "mimetype": "text/x-python",
   "name": "python",
   "nbconvert_exporter": "python",
   "pygments_lexer": "ipython3",
   "version": "3.10.10"
  },
  "orig_nbformat": 4,
  "vscode": {
   "interpreter": {
    "hash": "065007eae7dd0a2896a609a05153f4512d86ae68b4eb554ab641fe5278c828ee"
   }
  }
 },
 "nbformat": 4,
 "nbformat_minor": 2
}
