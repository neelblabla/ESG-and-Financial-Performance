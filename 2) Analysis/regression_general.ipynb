{
 "cells": [
  {
   "cell_type": "code",
   "execution_count": 1,
   "metadata": {},
   "outputs": [],
   "source": [
    "# Importing necessary libraries\n",
    "import pandas as pd\n",
    "from sklearn.ensemble import RandomForestRegressor\n",
    "from sklearn.model_selection import train_test_split\n",
    "from sklearn.metrics import mean_squared_error, r2_score"
   ]
  },
  {
   "cell_type": "code",
   "execution_count": 2,
   "metadata": {},
   "outputs": [],
   "source": [
    "# Loading the dataset\n",
    "df = pd.read_csv(\"../3) Data/main_df_no_NAN_99p.csv\")"
   ]
  },
  {
   "cell_type": "code",
   "execution_count": 3,
   "metadata": {},
   "outputs": [],
   "source": [
    "# Defining X and the different ys we want to test\n",
    "ESG_List = ['ESG Score',\n",
    "            'ESG Combined Score',\n",
    "            'ESG Controversies Score',\n",
    "            'Social Pillar Score',\n",
    "            'Governance Pillar Score',\n",
    "            'Environmental Pillar Score']\n",
    "\n",
    "Financials_List = [ 'Total Return', \n",
    "                    'Return On Equity - Mean',                    \n",
    "                    'Revenue - Mean',\n",
    "                    'Earnings Per Share - Mean',\n",
    "                    'Company Market Cap',\n",
    "                    'EBITDA - Mean']"
   ]
  },
  {
   "cell_type": "code",
   "execution_count": 4,
   "metadata": {},
   "outputs": [],
   "source": [
    "# Function to run RandomForest regression for all different ys\n",
    "def CustomRegressor(X, y_list):\n",
    "   result = {}\n",
    "   for y in y_list:\n",
    "      \n",
    "      X_train, X_test, y_train, y_test = train_test_split(X, y_list[y], test_size = 0.20, random_state = 101)\n",
    "      rfc = RandomForestRegressor(n_estimators=100, random_state=42)\n",
    "\n",
    "      # fit random forest classifier to training data\n",
    "      rfc.fit(X_train, y_train)\n",
    "\n",
    "      # make predictions on test data\n",
    "      y_pred = rfc.predict(X_test)\n",
    "\n",
    "      # calculate accuracy of predictions\n",
    "      result[str(y) + \" r_2\"] = r2_score(y_test, y_pred)\n",
    "      result[str(y) + \"MSE\"] = mean_squared_error(y_test, y_pred)\n",
    "\n",
    "   return result   "
   ]
  },
  {
   "cell_type": "code",
   "execution_count": 5,
   "metadata": {},
   "outputs": [
    {
     "name": "stdout",
     "output_type": "stream",
     "text": [
      "{'Total Return r_2': -0.0692622584794178, 'Total ReturnMSE': 1866.4418413875228, 'Return On Equity - Mean r_2': -0.02624003865668123, 'Return On Equity - MeanMSE': 404.8363889192441, 'Revenue - Mean r_2': -0.02159984099957102, 'Revenue - MeanMSE': 2.4058722188533082e+24, 'Earnings Per Share - Mean r_2': -0.10361484055056902, 'Earnings Per Share - MeanMSE': 473903.08113491983, 'Company Market Cap r_2': -0.04206716071364469, 'Company Market CapMSE': 2.6654482682666085e+24, 'EBITDA - Mean r_2': -0.033864999339296764, 'EBITDA - MeanMSE': 5.432598428185621e+22}\n"
     ]
    }
   ],
   "source": [
    "# Running the regressor and pbserving the results (ESG -> Financials)\n",
    "X = df[ESG_List]\n",
    "y_list = df[Financials_List]\n",
    "\n",
    "results = CustomRegressor(X, y_list)\n",
    "print(results)"
   ]
  },
  {
   "cell_type": "code",
   "execution_count": 7,
   "metadata": {},
   "outputs": [
    {
     "name": "stdout",
     "output_type": "stream",
     "text": [
      "{'ESG Score r_2': 0.24605198653551086, 'ESG ScoreMSE': 293.2042994807674, 'ESG Combined Score r_2': 0.21773937503828233, 'ESG Combined ScoreMSE': 277.6724445513767, 'ESG Controversies Score r_2': 0.09527524200255699, 'ESG Controversies ScoreMSE': 386.46733282170817, 'Social Pillar Score r_2': 0.20850771796298484, 'Social Pillar ScoreMSE': 418.3756311093875, 'Governance Pillar Score r_2': 0.1290703284593382, 'Governance Pillar ScoreMSE': 409.7759113023822, 'Environmental Pillar Score r_2': 0.2855878321807124, 'Environmental Pillar ScoreMSE': 563.1080226204016}\n"
     ]
    }
   ],
   "source": [
    "# Running the regressor and pbserving the results (Financials -> ESG)\n",
    "X = df[Financials_List]\n",
    "y_list = df[ESG_List]\n",
    "\n",
    "results = CustomRegressor(X, y_list)\n",
    "print(results)"
   ]
  }
 ],
 "metadata": {
  "kernelspec": {
   "display_name": "FS_Base",
   "language": "python",
   "name": "python3"
  },
  "language_info": {
   "codemirror_mode": {
    "name": "ipython",
    "version": 3
   },
   "file_extension": ".py",
   "mimetype": "text/x-python",
   "name": "python",
   "nbconvert_exporter": "python",
   "pygments_lexer": "ipython3",
   "version": "3.10.4"
  },
  "orig_nbformat": 4
 },
 "nbformat": 4,
 "nbformat_minor": 2
}
