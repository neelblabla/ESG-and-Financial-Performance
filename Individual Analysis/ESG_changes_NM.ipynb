{
 "cells": [
  {
   "cell_type": "code",
   "execution_count": 8,
   "metadata": {},
   "outputs": [],
   "source": [
    "import pandas as pd\n",
    "import itertools"
   ]
  },
  {
   "cell_type": "code",
   "execution_count": 9,
   "metadata": {},
   "outputs": [],
   "source": [
    "df = pd.read_csv(\"../Data Collection/main_df_no_NAN_99p.csv\").drop(columns=\"Unnamed: 0\")"
   ]
  },
  {
   "cell_type": "code",
   "execution_count": 10,
   "metadata": {},
   "outputs": [],
   "source": [
    "# To calculate returns, a standardized df is needed,\n",
    "# where each ISIN has the same number of years next\n",
    "# to it.\n",
    "years = list(range(2000, 2023))\n",
    "isin = df['ISIN'].unique()\n",
    "combinations = list(itertools.product(isin, years))\n",
    "df_combinations = pd.DataFrame(combinations, columns=['ISIN', 'Year'])\n",
    "\n",
    "df_stand = pd.merge(df_combinations, df, on=['ISIN', 'Year'], how='left')"
   ]
  },
  {
   "cell_type": "code",
   "execution_count": 11,
   "metadata": {},
   "outputs": [
    {
     "name": "stdout",
     "output_type": "stream",
     "text": [
      "<class 'pandas.core.frame.DataFrame'>\n",
      "Int64Index: 159758 entries, 0 to 159757\n",
      "Data columns (total 21 columns):\n",
      " #   Column                      Non-Null Count   Dtype  \n",
      "---  ------                      --------------   -----  \n",
      " 0   ISIN                        159758 non-null  object \n",
      " 1   Year                        159758 non-null  int64  \n",
      " 2   Total Return                50736 non-null   float64\n",
      " 3   ESG Score                   50736 non-null   float64\n",
      " 4   ESG Combined Score          50736 non-null   float64\n",
      " 5   ESG Controversies Score     50736 non-null   float64\n",
      " 6   Social Pillar Score         50736 non-null   float64\n",
      " 7   Governance Pillar Score     50736 non-null   float64\n",
      " 8   Environmental Pillar Score  50736 non-null   float64\n",
      " 9   Revenue - Mean              50736 non-null   float64\n",
      " 10  Earnings Per Share - Mean   50736 non-null   float64\n",
      " 11  Return On Equity - Mean     50736 non-null   float64\n",
      " 12  Volume                      50736 non-null   float64\n",
      " 13  Company Market Cap          50736 non-null   float64\n",
      " 14  EBITDA - Mean               50736 non-null   float64\n",
      " 15  Country of Headquarters     50736 non-null   object \n",
      " 16  Region of Headquarters      50736 non-null   object \n",
      " 17  TRBC Industry Name          50736 non-null   object \n",
      " 18  TRBC Industry Group Name    50736 non-null   object \n",
      " 19  TRBC Business Sector Name   50736 non-null   object \n",
      " 20  TRBC Economic Sector Name   50736 non-null   object \n",
      "dtypes: float64(13), int64(1), object(7)\n",
      "memory usage: 26.8+ MB\n"
     ]
    }
   ],
   "source": [
    "df_stand.info()"
   ]
  },
  {
   "cell_type": "code",
   "execution_count": 15,
   "metadata": {},
   "outputs": [],
   "source": [
    "# Calculating one-period returns: (Xt/Xt-1) - 1\n",
    "df_stand[\"ESG Score t-1\"] = df_stand[\"ESG Score\"].shift(+1)\n",
    "df_stand[\"ESG Score Return\"] = (df_stand[\"ESG Score\"] / df_stand[\"ESG Score t-1\"]) - 1\n",
    "\n",
    "# Dropping the first year of every company, because it is compared to the last\n",
    "# ESG Score of the previous company, not the previous year\n",
    "df_stand = df_stand[df_stand[\"Year\"] != 2000]\n",
    "\n",
    "# Deleting NAN values\n",
    "df_stand_cleaned = df_stand.dropna()"
   ]
  },
  {
   "cell_type": "code",
   "execution_count": 16,
   "metadata": {},
   "outputs": [
    {
     "name": "stdout",
     "output_type": "stream",
     "text": [
      "<class 'pandas.core.frame.DataFrame'>\n",
      "Int64Index: 41524 entries, 3 to 159745\n",
      "Data columns (total 23 columns):\n",
      " #   Column                      Non-Null Count  Dtype  \n",
      "---  ------                      --------------  -----  \n",
      " 0   ISIN                        41524 non-null  object \n",
      " 1   Year                        41524 non-null  int64  \n",
      " 2   Total Return                41524 non-null  float64\n",
      " 3   ESG Score                   41524 non-null  float64\n",
      " 4   ESG Combined Score          41524 non-null  float64\n",
      " 5   ESG Controversies Score     41524 non-null  float64\n",
      " 6   Social Pillar Score         41524 non-null  float64\n",
      " 7   Governance Pillar Score     41524 non-null  float64\n",
      " 8   Environmental Pillar Score  41524 non-null  float64\n",
      " 9   Revenue - Mean              41524 non-null  float64\n",
      " 10  Earnings Per Share - Mean   41524 non-null  float64\n",
      " 11  Return On Equity - Mean     41524 non-null  float64\n",
      " 12  Volume                      41524 non-null  float64\n",
      " 13  Company Market Cap          41524 non-null  float64\n",
      " 14  EBITDA - Mean               41524 non-null  float64\n",
      " 15  Country of Headquarters     41524 non-null  object \n",
      " 16  Region of Headquarters      41524 non-null  object \n",
      " 17  TRBC Industry Name          41524 non-null  object \n",
      " 18  TRBC Industry Group Name    41524 non-null  object \n",
      " 19  TRBC Business Sector Name   41524 non-null  object \n",
      " 20  TRBC Economic Sector Name   41524 non-null  object \n",
      " 21  ESG Score t-1               41524 non-null  float64\n",
      " 22  ESG Score Return            41524 non-null  float64\n",
      "dtypes: float64(15), int64(1), object(7)\n",
      "memory usage: 7.6+ MB\n"
     ]
    }
   ],
   "source": [
    "df_stand_cleaned.info()"
   ]
  }
 ],
 "metadata": {
  "kernelspec": {
   "display_name": "FS_Base",
   "language": "python",
   "name": "python3"
  },
  "language_info": {
   "codemirror_mode": {
    "name": "ipython",
    "version": 3
   },
   "file_extension": ".py",
   "mimetype": "text/x-python",
   "name": "python",
   "nbconvert_exporter": "python",
   "pygments_lexer": "ipython3",
   "version": "3.10.4"
  },
  "orig_nbformat": 4
 },
 "nbformat": 4,
 "nbformat_minor": 2
}
