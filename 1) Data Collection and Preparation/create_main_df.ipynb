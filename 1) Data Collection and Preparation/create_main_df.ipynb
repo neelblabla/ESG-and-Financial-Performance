{
 "cells": [
  {
   "cell_type": "code",
   "execution_count": 3,
   "metadata": {},
   "outputs": [],
   "source": [
    "# Import necessary libraries\n",
    "import pandas as pd\n",
    "import itertools"
   ]
  },
  {
   "cell_type": "code",
   "execution_count": 4,
   "metadata": {},
   "outputs": [],
   "source": [
    "# Import the three created dataframes, and inspect them afterwards\n",
    "# Yearly ESG Scores and Total Return\n",
    "df_esg_tr = pd.read_csv(\"../3) Data/comp_tr_esg_df.csv\").rename(columns={\"Unnamed: 0\": \"Year\", \"key\": \"ISIN\"})\n",
    "\n",
    "# General Information about the companies (Geogpraphy, Industry, etc.)\n",
    "df_info = pd.read_csv(\"../3) Data/comp_info_df.csv\").drop(columns=[\"Unnamed: 0\", \"Instrument\"]\n",
    "                                               ).rename(columns={\"key\": \"ISIN\"})\n",
    "\n",
    "# Financial Information about the companies (Revenue, ROE, etc.)\n",
    "df_fin = pd.read_csv(\"../3) Data/comp_fin_df.csv\").rename(columns={\"Unnamed: 0\": \"Year\", \"key\": \"ISIN\"})"
   ]
  },
  {
   "cell_type": "code",
   "execution_count": 5,
   "metadata": {},
   "outputs": [
    {
     "name": "stdout",
     "output_type": "stream",
     "text": [
      "<class 'pandas.core.frame.DataFrame'>\n",
      "RangeIndex: 224852 entries, 0 to 224851\n",
      "Data columns (total 9 columns):\n",
      " #   Column                      Non-Null Count   Dtype  \n",
      "---  ------                      --------------   -----  \n",
      " 0   Year                        224852 non-null  int64  \n",
      " 1   Total Return                162556 non-null  float64\n",
      " 2   ESG Score                   79820 non-null   float64\n",
      " 3   ESG Combined Score          79820 non-null   float64\n",
      " 4   ESG Controversies Score     79811 non-null   float64\n",
      " 5   Social Pillar Score         79811 non-null   float64\n",
      " 6   Governance Pillar Score     79820 non-null   float64\n",
      " 7   Environmental Pillar Score  79811 non-null   float64\n",
      " 8   ISIN                        224852 non-null  object \n",
      "dtypes: float64(7), int64(1), object(1)\n",
      "memory usage: 15.4+ MB\n"
     ]
    }
   ],
   "source": [
    "df_esg_tr.info()"
   ]
  },
  {
   "cell_type": "code",
   "execution_count": 6,
   "metadata": {},
   "outputs": [
    {
     "name": "stdout",
     "output_type": "stream",
     "text": [
      "<class 'pandas.core.frame.DataFrame'>\n",
      "RangeIndex: 215896 entries, 0 to 215895\n",
      "Data columns (total 13 columns):\n",
      " #   Column                                 Non-Null Count   Dtype  \n",
      "---  ------                                 --------------   -----  \n",
      " 0   Year                                   215896 non-null  int64  \n",
      " 1   Revenue - Mean                         121224 non-null  float64\n",
      " 2   Employees - Average                    13550 non-null   float64\n",
      " 3   Earnings Per Share - Mean              123578 non-null  float64\n",
      " 4   Return On Assets - Mean                78514 non-null   float64\n",
      " 5   Return On Equity - Mean                103224 non-null  float64\n",
      " 6   Volume                                 205099 non-null  float64\n",
      " 7   Company Market Cap                     152548 non-null  float64\n",
      " 8   Free Cash Flow - Mean                  52839 non-null   float64\n",
      " 9   Weighted Average Cost of Capital, (%)  65025 non-null   float64\n",
      " 10  EBITDA - Mean                          105654 non-null  float64\n",
      " 11  Organic Sales Growth - Mean            6355 non-null    float64\n",
      " 12  ISIN                                   215896 non-null  object \n",
      "dtypes: float64(11), int64(1), object(1)\n",
      "memory usage: 21.4+ MB\n"
     ]
    }
   ],
   "source": [
    "df_fin.info()"
   ]
  },
  {
   "cell_type": "code",
   "execution_count": 7,
   "metadata": {},
   "outputs": [
    {
     "name": "stdout",
     "output_type": "stream",
     "text": [
      "<class 'pandas.core.frame.DataFrame'>\n",
      "RangeIndex: 9766 entries, 0 to 9765\n",
      "Data columns (total 18 columns):\n",
      " #   Column                        Non-Null Count  Dtype \n",
      "---  ------                        --------------  ----- \n",
      " 0   Country of Headquarters       9760 non-null   object\n",
      " 1   Region of Headquarters        9760 non-null   object\n",
      " 2   NAICS National Industry Name  9758 non-null   object\n",
      " 3   NAICS Industry Group Name     9758 non-null   object\n",
      " 4   NAICS Sector Name             9758 non-null   object\n",
      " 5   GICS Sub-Industry Name        9450 non-null   object\n",
      " 6   GICS Industry Name            9450 non-null   object\n",
      " 7   ICB Industry name             9733 non-null   object\n",
      " 8   ICB Sector name               9733 non-null   object\n",
      " 9   GICS Industry Group Name      9450 non-null   object\n",
      " 10  SIC Industry Name             2909 non-null   object\n",
      " 11  TRBC Industry Name            9760 non-null   object\n",
      " 12  TRBC Industry Group Name      9760 non-null   object\n",
      " 13  TRBC Business Sector Name     9760 non-null   object\n",
      " 14  TRBC Economic Sector Name     9760 non-null   object\n",
      " 15  TSE33 Main sector name        460 non-null    object\n",
      " 16  NAICS Subsector Name          9758 non-null   object\n",
      " 17  ISIN                          9766 non-null   object\n",
      "dtypes: object(18)\n",
      "memory usage: 1.3+ MB\n"
     ]
    }
   ],
   "source": [
    "df_info.info()"
   ]
  },
  {
   "cell_type": "code",
   "execution_count": 8,
   "metadata": {},
   "outputs": [],
   "source": [
    "# Combining them into one, without dropping any values\n",
    "df_comb = df_esg_tr.merge(df_fin, on=[\"ISIN\", \"Year\"], how=\"left\"\n",
    "                          ).merge(df_info, on=[\"ISIN\"], how=\"left\")\n",
    "\n",
    "# Only keeping relevant columns\n",
    "df_comb = df_comb[[\"ISIN\",\n",
    "                   \"Year\",\n",
    "                   \"Total Return\",\n",
    "                   \"ESG Score\",\n",
    "                   \"ESG Combined Score\",\n",
    "                   \"ESG Controversies Score\",\n",
    "                   \"Social Pillar Score\",\n",
    "                   \"Governance Pillar Score\",\n",
    "                   \"Environmental Pillar Score\",\n",
    "                   \"Revenue - Mean\",\n",
    "                   \"Earnings Per Share - Mean\",\n",
    "                   \"Return On Equity - Mean\",\n",
    "                   \"Volume\",\n",
    "                   \"Company Market Cap\",\n",
    "                   \"EBITDA - Mean\",\n",
    "                   \"Country of Headquarters\",\n",
    "                   \"Region of Headquarters\",\n",
    "                   \"TRBC Industry Name\",\n",
    "                   \"TRBC Industry Group Name\",\n",
    "                   \"TRBC Business Sector Name\",\n",
    "                   \"TRBC Economic Sector Name\"]]\n",
    "\n",
    "# Saving the general dataset\n",
    "df_comb.to_csv(\"main_df_with_NAN.csv\")"
   ]
  },
  {
   "cell_type": "code",
   "execution_count": 9,
   "metadata": {},
   "outputs": [],
   "source": [
    "# Deleting NAN values\n",
    "df_comb_cleaned = df_comb.dropna()\n",
    "\n",
    "# Saving the cleaned general dataset\n",
    "df_comb_cleaned.to_csv(\"main_df_no_NAN.csv\")"
   ]
  },
  {
   "cell_type": "code",
   "execution_count": 10,
   "metadata": {},
   "outputs": [],
   "source": [
    "# We noticed a problem with outliers, so we decided,\n",
    "# to only keep the middle 99% of numerical datapoints\n",
    "\n",
    "# Creating a copy of the original dataframe\n",
    "df_comb_cleaned_99p = df_comb_cleaned.copy()\n",
    "\n",
    "# Selecting only the float64 columns\n",
    "float_cols = df_comb_cleaned.select_dtypes(include=['float64']).columns\n",
    "\n",
    "# Calculating the middle 99% quantiles for each column\n",
    "quantiles = df_comb_cleaned[float_cols].quantile([0.005, 0.995])\n",
    "\n",
    "# Keeping only those values\n",
    "df_comb_cleaned_99p[float_cols] = df_comb_cleaned[float_cols][(df_comb_cleaned[float_cols] >= quantiles.loc[0.005]\n",
    "                                                               ) & (df_comb_cleaned[float_cols] <= quantiles.loc[0.995])]\n",
    "\n",
    "# Deleting NAN values\n",
    "df_comb_cleaned_99p = df_comb_cleaned_99p.dropna()\n",
    "\n",
    "# Saving the cleaned general dataset that contains\n",
    "# only the middle 99% of data, to remove outliers\n",
    "df_comb_cleaned_99p.to_csv(\"main_df_no_NAN_99p.csv\")"
   ]
  },
  {
   "cell_type": "code",
   "execution_count": 25,
   "metadata": {},
   "outputs": [],
   "source": [
    "# Creating a version that contains YoY changes of\n",
    "# the numerical columns\n",
    "\n",
    "# A standardized df is needed, where each ISIN has \n",
    "# the same number of years next to it\n",
    "years = list(range(2000, 2023))\n",
    "isin = df_comb_cleaned_99p['ISIN'].unique()\n",
    "combinations = list(itertools.product(isin, years))\n",
    "df_combinations = pd.DataFrame(combinations, columns=['ISIN', 'Year'])\n",
    "\n",
    "df_YoY = pd.merge(df_combinations, df_comb_cleaned_99p, on=['ISIN', 'Year'], how='left'\n",
    "                    ).reset_index().drop(columns=\"index\")\n",
    "\n",
    "# Creating a list of float64 columns\n",
    "float_cols = df_YoY.select_dtypes(include=['float64']).columns.tolist()\n",
    "\n",
    "# Calculating one-period differences: (Xt/Xt-1) - 1\n",
    "for col in float_cols:\n",
    "    df_YoY[f'{col} YoY change'] = (df_YoY[col] / df_YoY[col].shift(1)) - 1\n",
    "\n",
    "# Dropping the first year of every company, because it is compared to the last\n",
    "# ESG Score of the previous company, not the previous year and already calculated returns\n",
    "df_YoY = df_YoY[df_YoY[\"Year\"] != 2000].drop(columns=[\"Total Return YoY change\",\n",
    "                                                            \"Return On Equity - Mean YoY change\",\n",
    "                                                            \"Volume YoY change\"])\n",
    "\n",
    "# Deleting NAN values\n",
    "df_YoY_cleaned = df_YoY.dropna()\n",
    "\n",
    "# Saving this version of the main dataframe\n",
    "df_YoY_cleaned.to_csv(\"main_df_no_NAN_99p_YoY.csv\")"
   ]
  }
 ],
 "metadata": {
  "kernelspec": {
   "display_name": "Python 3 (ipykernel)",
   "language": "python",
   "name": "python3"
  },
  "language_info": {
   "codemirror_mode": {
    "name": "ipython",
    "version": 3
   },
   "file_extension": ".py",
   "mimetype": "text/x-python",
   "name": "python",
   "nbconvert_exporter": "python",
   "pygments_lexer": "ipython3",
   "version": "3.10.4"
  },
  "vscode": {
   "interpreter": {
    "hash": "092fd3b47a62a288d64e0d56cb1d943a7dfc85b85fdb59434f57bdf2cec50c7f"
   }
  }
 },
 "nbformat": 4,
 "nbformat_minor": 2
}
