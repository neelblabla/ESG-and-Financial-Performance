{
 "cells": [
  {
   "cell_type": "code",
   "execution_count": null,
   "metadata": {},
   "outputs": [],
   "source": [
    "# Importing necessary libraries\n",
    "import os\n",
    "import pandas as pd\n",
    "import refinitiv.data as rd"
   ]
  },
  {
   "cell_type": "code",
   "execution_count": null,
   "metadata": {},
   "outputs": [],
   "source": [
    "# Configuration File to communicate with Refinitiv\n",
    "os.environ[\"RD_LIB_CONFIG_PATH\"] = \"../Configuration\""
   ]
  },
  {
   "cell_type": "code",
   "execution_count": null,
   "metadata": {},
   "outputs": [],
   "source": [
    "# Connecting to the Refinitiv API\n",
    "rd.open_session()"
   ]
  },
  {
   "cell_type": "code",
   "execution_count": null,
   "metadata": {},
   "outputs": [],
   "source": [
    "# Importing the ISINs of all companies in the Refinitiv ESG Universe\n",
    "df_companies = pd.read_csv(\"Refinitiv_ESG_Universe.csv\", delimiter=\";\")"
   ]
  },
  {
   "cell_type": "code",
   "execution_count": null,
   "metadata": {},
   "outputs": [],
   "source": [
    "# Retrieving company data that doesn't change with time\n",
    "\n",
    "# Loop to collect general information for all available companies\n",
    "comp_data_dict = {}\n",
    "\n",
    "for isin in df_companies[\"ISIN\"]:\n",
    "    \n",
    "    df = rd.get_data(\n",
    "        universe=isin,\n",
    "        fields=[\"TR.HeadquartersCountry\", \"TR.HeadquartersRegion\",\n",
    "                \"TR.NAICSNationalIndustry\", \"TR.NAICSIndustryGroup\",\n",
    "                \"TR.NAICSSector\", \"TR.GICSSubIndustry\", \"TR.GICSIndustry\",\n",
    "                \"TR.ICBIndustry\", \"TR.ICBSector\", \"TR.GICSIndustryGroup\",\n",
    "                \"TR.SICIndustryGroup\", \"TR.GICSSector\", \"TR.SICIndustry\",\n",
    "                \"TR.TRBCIndustry\", \"TR.TRBCIndustryGroup\",\"TR.TRBCBusinessSector\",\n",
    "                \"TR.TRBCEconomicSector\", \"TR.TSE33SectorNameMain\", \"TR.NAICSSubsector\"]\n",
    "                )\n",
    "\n",
    "    comp_data_dict[isin] = df\n",
    "\n",
    "# Creating pandas dataframes with the collected data\n",
    "comp_dfs = []\n",
    "for ISIN, df in comp_data_dict.items():\n",
    "    df[\"key\"] = ISIN\n",
    "    comp_dfs.append(df)\n",
    "\n",
    "# Concatenating the dataframes into a single one\n",
    "comp_info_df = pd.concat(comp_dfs)\n",
    "\n",
    "# Saving the dataframe\n",
    "comp_info_df.to_csv(\"comp_info_df.csv\")"
   ]
  },
  {
   "cell_type": "code",
   "execution_count": null,
   "metadata": {},
   "outputs": [],
   "source": [
    "# Retrieving company ESG data\n",
    "\n",
    "# loop to collect ESG data for all available companies\n",
    "ESG_data_dict = {}\n",
    "\n",
    "for isin in df_companies[\"ISIN\"]:\n",
    "\n",
    "    df = rd.get_history(\n",
    "        universe=isin,\n",
    "        fields=[\"TR.TotalReturn\", \"TR.TRESGScore\", \"TR.TRESGCScore\",\n",
    "                \"TR.TRESGCControversiesScore\", \"TR.SocialPillarScore\",\n",
    "                \"TR.GovernancePillarScore\", \"TR.EnvironmentPillarScore\"],\n",
    "        interval=\"1Y\",\n",
    "        start=\"2000-01-01\",\n",
    "        end=\"2023-01-01\",\n",
    "        )\n",
    "    \n",
    "    df.index = pd.to_datetime(df.index)\n",
    "    df = df.groupby(df.index.year).first()\n",
    "\n",
    "    ESG_data_dict[isin] = df\n",
    "\n",
    "# Creating pandas dataframes with the collected data\n",
    "esg_dfs = []\n",
    "for ISIN, df in ESG_data_dict.items():\n",
    "    df[\"key\"] = ISIN\n",
    "    esg_dfs.append(df)\n",
    "\n",
    "# Concatenating the dataframes into a single one\n",
    "comp_tr_esg_df = pd.concat(esg_dfs)\n",
    "\n",
    "# Saving the new dataframe\n",
    "comp_tr_esg_df.to_csv(\"comp_tr_esg_df.csv\")"
   ]
  },
  {
   "cell_type": "code",
   "execution_count": null,
   "metadata": {},
   "outputs": [],
   "source": [
    "# Retrieving company financial data\n",
    "\n",
    "# loop to collect financial data for all available companies\n",
    "financials_data_dict = {}\n",
    "\n",
    "for isin in df_companies[\"ISIN\"]:\n",
    "\n",
    "    df = rd.get_history(\n",
    "        universe=isin,\n",
    "        fields=[\"TR.RevenueMean\", \"TR.EarningsMean\", \"TR.F.EmpAvg\",\n",
    "                \"TR.EPSMean\", \"TR.ROAMean\", \"TR.ROEMean\",\"TR.Volume\",\n",
    "                \"TR.CompanyMarketCap\", \"TR.FCFMean\", \"TR.WACC\",\n",
    "                \"TR.EBITDAMean\", \"TR.OrganicSalesGrowthMean\"],\n",
    "        interval=\"1Y\",\n",
    "        start=\"2000-01-01\",\n",
    "        end=\"2023-01-01\",\n",
    "        )\n",
    "    \n",
    "    df.index = pd.to_datetime(df.index)\n",
    "    df = df.groupby(df.index.year).first()\n",
    "\n",
    "    financials_data_dict[isin] = df\n",
    "\n",
    "# Creating pandas dataframes with the collected data\n",
    "fin_dfs = []\n",
    "for ISIN, df in financials_data_dict.items():\n",
    "    df[\"key\"] = ISIN\n",
    "    fin_dfs.append(df)\n",
    "\n",
    "# Concatenating the dataframes into a single one\n",
    "comp_fin_df = pd.concat(fin_dfs)\n",
    "\n",
    "# Saving the new dataframe\n",
    "comp_fin_df.to_csv(\"comp_fin_df.csv\")"
   ]
  },
  {
   "cell_type": "code",
   "execution_count": null,
   "metadata": {},
   "outputs": [],
   "source": [
    "rd.close_session()"
   ]
  }
 ],
 "metadata": {
  "language_info": {
   "name": "python"
  },
  "orig_nbformat": 4
 },
 "nbformat": 4,
 "nbformat_minor": 2
}
